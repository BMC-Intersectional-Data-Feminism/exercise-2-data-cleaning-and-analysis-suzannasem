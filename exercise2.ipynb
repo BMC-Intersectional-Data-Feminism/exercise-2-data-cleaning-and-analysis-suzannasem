{
 "cells": [
  {
   "cell_type": "markdown",
   "metadata": {},
   "source": [
    "# Exercise 2: Data Processing and Analysis"
   ]
  },
  {
   "cell_type": "code",
   "execution_count": 24,
   "metadata": {},
   "outputs": [],
   "source": [
    "import pandas as pd \n",
    "import matplotlib.pyplot as plt\n",
    "import seaborn as sns\n",
    "import numpy as np\n",
    "try:\n",
    "    from gofer.ok import check\n",
    "except:\n",
    "    %pip install git+https://github.com/grading/gradememaybe.git\n",
    "    from gofer.ok import check"
   ]
  },
  {
   "cell_type": "markdown",
   "metadata": {},
   "source": [
    "Today we're working with simulated smartwatch health data. You'll notice when you read in the csv file that we have 7 columns: User ID, Heart Rate (BPM), Blood Oxygen Level (%), Step Count, Sleep Duration (hours), Activity Level, and Stress Level. We're going to go through and \"clean up\" the data so that we can calculate some basic statistics such as mean, median, minimum, and maximum for each variable. Run the cell below to read in the table saving it in the variable `smartwatch`. "
   ]
  },
  {
   "cell_type": "code",
   "execution_count": 13,
   "metadata": {},
   "outputs": [
    {
     "name": "stdout",
     "output_type": "stream",
     "text": [
      "      User ID  Heart Rate (BPM)  Blood Oxygen Level (%)    Step Count  \\\n",
      "0      4174.0         58.939776               98.809650   5450.390578   \n",
      "1         NaN               NaN               98.532195    727.601610   \n",
      "2      1860.0        247.803052               97.052954   2826.521994   \n",
      "3      2294.0         40.000000               96.894213  13797.338044   \n",
      "4      2130.0         61.950165               98.583797  15679.067648   \n",
      "...       ...               ...                     ...           ...   \n",
      "9995   1524.0         78.819386               98.931927   2948.491953   \n",
      "9996   4879.0         48.632659               95.773035   4725.623070   \n",
      "9997   2624.0         73.834442               97.945874   2571.492060   \n",
      "9998   4907.0               NaN               98.401058   3364.788855   \n",
      "9999   4113.0         70.063864               98.475606    544.696104   \n",
      "\n",
      "     Sleep Duration (hours) Activity Level Stress Level  \n",
      "0         7.167235622316564  Highly Active            1  \n",
      "1         6.538239375570314  Highly_Active            5  \n",
      "2                     ERROR  Highly Active            5  \n",
      "3         7.367789630207228          Actve            3  \n",
      "4                       NaN  Highly_Active            6  \n",
      "...                     ...            ...          ...  \n",
      "9995      7.402748595032027         Active            7  \n",
      "9996     6.3821659358529015      Sedentary            2  \n",
      "9997       6.91654920303435      Sedentary            4  \n",
      "9998      5.691233932149209         Active            8  \n",
      "9999      5.691001039740254          Actve            5  \n",
      "\n",
      "[10000 rows x 7 columns]\n"
     ]
    }
   ],
   "source": [
    "smartwatch = pd.read_csv(\"unclean_smartwatch_health_data.csv\")\n",
    "print(smartwatch)"
   ]
  },
  {
   "cell_type": "markdown",
   "metadata": {},
   "source": [
    "Let's start together with the Heart Rate column. Just looking at the preview table above we can see two things right away: (1) we have `NaN` values meaning data was not collected for those individuals, and (2) some of the heart rate values are abnormally high i.e. `247.803052`. Let's see what the entire range of values look like. "
   ]
  },
  {
   "cell_type": "code",
   "execution_count": 14,
   "metadata": {},
   "outputs": [
    {
     "name": "stdout",
     "output_type": "stream",
     "text": [
      "40.0 296.5939695131042\n"
     ]
    }
   ],
   "source": [
    "print(smartwatch['Heart Rate (BPM)'].min(), smartwatch['Heart Rate (BPM)'].max())"
   ]
  },
  {
   "cell_type": "markdown",
   "metadata": {},
   "source": [
    "**Question 1**: Set the variables below equal to the minimum heart rate and the maximum heart rate in the dataset. This is just practice for the method of checking answers as you go. Afterwards run the cell below to check your answer. "
   ]
  },
  {
   "cell_type": "code",
   "execution_count": 15,
   "metadata": {},
   "outputs": [],
   "source": [
    "minimumHeartRate = smartwatch['Heart Rate (BPM)'].min()\n",
    "maximumHeartRate = smartwatch['Heart Rate (BPM)'].max()"
   ]
  },
  {
   "cell_type": "code",
   "execution_count": 5,
   "metadata": {},
   "outputs": [
    {
     "ename": "KeyError",
     "evalue": "'image/svg+xml'",
     "output_type": "error",
     "traceback": [
      "\u001b[0;31m---------------------------------------------------------------------------\u001b[0m",
      "\u001b[0;31mKeyError\u001b[0m                                  Traceback (most recent call last)",
      "Cell \u001b[0;32mIn[5], line 1\u001b[0m\n\u001b[0;32m----> 1\u001b[0m \u001b[43mcheck\u001b[49m\u001b[43m(\u001b[49m\u001b[38;5;124;43m'\u001b[39;49m\u001b[38;5;124;43mtests/q1.py\u001b[39;49m\u001b[38;5;124;43m'\u001b[39;49m\u001b[43m)\u001b[49m\n",
      "File \u001b[0;32m~/.python/current/lib/python3.12/site-packages/gofer/ok.py:299\u001b[0m, in \u001b[0;36mcheck\u001b[0;34m(test_file_path, global_env)\u001b[0m\n\u001b[1;32m    293\u001b[0m \u001b[38;5;28;01mif\u001b[39;00m global_env \u001b[38;5;129;01mis\u001b[39;00m \u001b[38;5;28;01mNone\u001b[39;00m:\n\u001b[1;32m    294\u001b[0m     \u001b[38;5;66;03m# Get the global env of our callers - one level below us in the stack\u001b[39;00m\n\u001b[1;32m    295\u001b[0m     \u001b[38;5;66;03m# The grade method should only be called directly from user / notebook\u001b[39;00m\n\u001b[1;32m    296\u001b[0m     \u001b[38;5;66;03m# code. If some other method is calling it, it should also use the\u001b[39;00m\n\u001b[1;32m    297\u001b[0m     \u001b[38;5;66;03m# inspect trick to pass in its parents' global env.\u001b[39;00m\n\u001b[1;32m    298\u001b[0m     global_env \u001b[38;5;241m=\u001b[39m inspect\u001b[38;5;241m.\u001b[39mcurrentframe()\u001b[38;5;241m.\u001b[39mf_back\u001b[38;5;241m.\u001b[39mf_globals\n\u001b[0;32m--> 299\u001b[0m \u001b[38;5;28;01mreturn\u001b[39;00m \u001b[43mtests\u001b[49m\u001b[38;5;241;43m.\u001b[39;49m\u001b[43mrun\u001b[49m\u001b[43m(\u001b[49m\u001b[43mglobal_env\u001b[49m\u001b[43m,\u001b[49m\u001b[43m \u001b[49m\u001b[43minclude_grade\u001b[49m\u001b[38;5;241;43m=\u001b[39;49m\u001b[38;5;28;43;01mFalse\u001b[39;49;00m\u001b[43m)\u001b[49m\n",
      "File \u001b[0;32m~/.python/current/lib/python3.12/site-packages/gofer/ok.py:147\u001b[0m, in \u001b[0;36mOKTests.run\u001b[0;34m(self, global_environment, include_grade)\u001b[0m\n\u001b[1;32m    145\u001b[0m \u001b[38;5;28;01mfor\u001b[39;00m t \u001b[38;5;129;01min\u001b[39;00m \u001b[38;5;28mself\u001b[39m\u001b[38;5;241m.\u001b[39mtests:\n\u001b[1;32m    146\u001b[0m     total \u001b[38;5;241m+\u001b[39m\u001b[38;5;241m=\u001b[39m t\u001b[38;5;241m.\u001b[39mvalue\n\u001b[0;32m--> 147\u001b[0m     passed, hint \u001b[38;5;241m=\u001b[39m \u001b[43mt\u001b[49m\u001b[38;5;241;43m.\u001b[39;49m\u001b[43mrun\u001b[49m\u001b[43m(\u001b[49m\u001b[43mglobal_environment\u001b[49m\u001b[43m)\u001b[49m\n\u001b[1;32m    148\u001b[0m     \u001b[38;5;28;01mif\u001b[39;00m passed:\n\u001b[1;32m    149\u001b[0m         grade \u001b[38;5;241m+\u001b[39m\u001b[38;5;241m=\u001b[39m t\u001b[38;5;241m.\u001b[39mvalue\n",
      "File \u001b[0;32m~/.python/current/lib/python3.12/site-packages/gofer/ok.py:89\u001b[0m, in \u001b[0;36mOKTest.run\u001b[0;34m(self, global_environment)\u001b[0m\n\u001b[1;32m     87\u001b[0m \u001b[38;5;28;01mdef\u001b[39;00m \u001b[38;5;21mrun\u001b[39m(\u001b[38;5;28mself\u001b[39m, global_environment):\n\u001b[1;32m     88\u001b[0m     \u001b[38;5;28;01mfor\u001b[39;00m i, t \u001b[38;5;129;01min\u001b[39;00m \u001b[38;5;28menumerate\u001b[39m(\u001b[38;5;28mself\u001b[39m\u001b[38;5;241m.\u001b[39mtests):\n\u001b[0;32m---> 89\u001b[0m         passed, result \u001b[38;5;241m=\u001b[39m \u001b[43mrun_doctest\u001b[49m\u001b[43m(\u001b[49m\u001b[38;5;28;43mself\u001b[39;49m\u001b[38;5;241;43m.\u001b[39;49m\u001b[43mname\u001b[49m\u001b[43m \u001b[49m\u001b[38;5;241;43m+\u001b[39;49m\u001b[43m \u001b[49m\u001b[38;5;124;43m'\u001b[39;49m\u001b[38;5;124;43m \u001b[39;49m\u001b[38;5;124;43m'\u001b[39;49m\u001b[43m \u001b[49m\u001b[38;5;241;43m+\u001b[39;49m\u001b[43m \u001b[49m\u001b[38;5;28;43mstr\u001b[39;49m\u001b[43m(\u001b[49m\u001b[43mi\u001b[49m\u001b[43m)\u001b[49m\u001b[43m,\u001b[49m\u001b[43m \u001b[49m\u001b[43mt\u001b[49m\u001b[43m,\u001b[49m\u001b[43m \u001b[49m\u001b[43mglobal_environment\u001b[49m\u001b[43m)\u001b[49m\n\u001b[1;32m     90\u001b[0m         \u001b[38;5;28;01mif\u001b[39;00m \u001b[38;5;129;01mnot\u001b[39;00m passed:\n\u001b[1;32m     91\u001b[0m             \u001b[38;5;28;01mreturn\u001b[39;00m \u001b[38;5;28;01mFalse\u001b[39;00m, OKTest\u001b[38;5;241m.\u001b[39mresult_fail_template\u001b[38;5;241m.\u001b[39mrender(\n\u001b[1;32m     92\u001b[0m                 name\u001b[38;5;241m=\u001b[39m\u001b[38;5;28mself\u001b[39m\u001b[38;5;241m.\u001b[39mname,\n\u001b[1;32m     93\u001b[0m                 test_code\u001b[38;5;241m=\u001b[39mhighlight(t, PythonConsoleLexer(), HtmlFormatter(noclasses\u001b[38;5;241m=\u001b[39m\u001b[38;5;28;01mTrue\u001b[39;00m)),\n\u001b[1;32m     94\u001b[0m                 test_result\u001b[38;5;241m=\u001b[39mresult\n\u001b[1;32m     95\u001b[0m             )\n",
      "File \u001b[0;32m~/.python/current/lib/python3.12/site-packages/gofer/ok.py:45\u001b[0m, in \u001b[0;36mrun_doctest\u001b[0;34m(name, doctest_string, global_environment)\u001b[0m\n\u001b[1;32m     42\u001b[0m doctestrunner \u001b[38;5;241m=\u001b[39m doctest\u001b[38;5;241m.\u001b[39mDocTestRunner(verbose\u001b[38;5;241m=\u001b[39m\u001b[38;5;28;01mTrue\u001b[39;00m)\n\u001b[1;32m     44\u001b[0m runresults \u001b[38;5;241m=\u001b[39m io\u001b[38;5;241m.\u001b[39mStringIO()\n\u001b[0;32m---> 45\u001b[0m \u001b[43m\u001b[49m\u001b[38;5;28;43;01mwith\u001b[39;49;00m\u001b[43m \u001b[49m\u001b[43mredirect_stdout\u001b[49m\u001b[43m(\u001b[49m\u001b[43mrunresults\u001b[49m\u001b[43m)\u001b[49m\u001b[43m,\u001b[49m\u001b[43m \u001b[49m\u001b[43mredirect_stderr\u001b[49m\u001b[43m(\u001b[49m\u001b[43mrunresults\u001b[49m\u001b[43m)\u001b[49m\u001b[43m,\u001b[49m\u001b[43m \u001b[49m\u001b[43mhide_outputs\u001b[49m\u001b[43m(\u001b[49m\u001b[43m)\u001b[49m\u001b[43m:\u001b[49m\n\u001b[1;32m     46\u001b[0m \u001b[43m    \u001b[49m\u001b[43mdoctestrunner\u001b[49m\u001b[38;5;241;43m.\u001b[39;49m\u001b[43mrun\u001b[49m\u001b[43m(\u001b[49m\u001b[43mtest\u001b[49m\u001b[43m,\u001b[49m\u001b[43m \u001b[49m\u001b[43mclear_globs\u001b[49m\u001b[38;5;241;43m=\u001b[39;49m\u001b[38;5;28;43;01mFalse\u001b[39;49;00m\u001b[43m)\u001b[49m\n\u001b[1;32m     47\u001b[0m \u001b[38;5;28;01mwith\u001b[39;00m \u001b[38;5;28mopen\u001b[39m(os\u001b[38;5;241m.\u001b[39mdevnull, \u001b[38;5;124m'\u001b[39m\u001b[38;5;124mw\u001b[39m\u001b[38;5;124m'\u001b[39m) \u001b[38;5;28;01mas\u001b[39;00m f, redirect_stderr(f), redirect_stdout(f):\n",
      "File \u001b[0;32m~/.python/current/lib/python3.12/contextlib.py:144\u001b[0m, in \u001b[0;36m_GeneratorContextManager.__exit__\u001b[0;34m(self, typ, value, traceback)\u001b[0m\n\u001b[1;32m    142\u001b[0m \u001b[38;5;28;01mif\u001b[39;00m typ \u001b[38;5;129;01mis\u001b[39;00m \u001b[38;5;28;01mNone\u001b[39;00m:\n\u001b[1;32m    143\u001b[0m     \u001b[38;5;28;01mtry\u001b[39;00m:\n\u001b[0;32m--> 144\u001b[0m         \u001b[38;5;28;43mnext\u001b[39;49m\u001b[43m(\u001b[49m\u001b[38;5;28;43mself\u001b[39;49m\u001b[38;5;241;43m.\u001b[39;49m\u001b[43mgen\u001b[49m\u001b[43m)\u001b[49m\n\u001b[1;32m    145\u001b[0m     \u001b[38;5;28;01mexcept\u001b[39;00m \u001b[38;5;167;01mStopIteration\u001b[39;00m:\n\u001b[1;32m    146\u001b[0m         \u001b[38;5;28;01mreturn\u001b[39;00m \u001b[38;5;28;01mFalse\u001b[39;00m\n",
      "File \u001b[0;32m~/.python/current/lib/python3.12/site-packages/gofer/utils.py:48\u001b[0m, in \u001b[0;36mhide_outputs\u001b[0;34m()\u001b[0m\n\u001b[1;32m     46\u001b[0m     \u001b[38;5;28;01myield\u001b[39;00m\n\u001b[1;32m     47\u001b[0m \u001b[38;5;28;01mfinally\u001b[39;00m:\n\u001b[0;32m---> 48\u001b[0m     \u001b[43mflush_inline_matplotlib_plots\u001b[49m\u001b[43m(\u001b[49m\u001b[43m)\u001b[49m\n\u001b[1;32m     49\u001b[0m     ipy\u001b[38;5;241m.\u001b[39mdisplay_formatter\u001b[38;5;241m.\u001b[39mformatters \u001b[38;5;241m=\u001b[39m old_formatters\n",
      "File \u001b[0;32m~/.python/current/lib/python3.12/site-packages/gofer/utils.py:23\u001b[0m, in \u001b[0;36mflush_inline_matplotlib_plots\u001b[0;34m()\u001b[0m\n\u001b[1;32m     21\u001b[0m \u001b[38;5;28;01mtry\u001b[39;00m:\n\u001b[1;32m     22\u001b[0m     \u001b[38;5;28;01mimport\u001b[39;00m \u001b[38;5;21;01mmatplotlib\u001b[39;00m \u001b[38;5;28;01mas\u001b[39;00m \u001b[38;5;21;01mmpl\u001b[39;00m\n\u001b[0;32m---> 23\u001b[0m     \u001b[38;5;28;01mfrom\u001b[39;00m \u001b[38;5;21;01mipykernel\u001b[39;00m\u001b[38;5;21;01m.\u001b[39;00m\u001b[38;5;21;01mpylab\u001b[39;00m\u001b[38;5;21;01m.\u001b[39;00m\u001b[38;5;21;01mbackend_inline\u001b[39;00m \u001b[38;5;28;01mimport\u001b[39;00m flush_figures\n\u001b[1;32m     24\u001b[0m \u001b[38;5;28;01mexcept\u001b[39;00m \u001b[38;5;167;01mImportError\u001b[39;00m:\n\u001b[1;32m     25\u001b[0m     \u001b[38;5;28;01mreturn\u001b[39;00m\n",
      "File \u001b[0;32m~/.local/lib/python3.12/site-packages/ipykernel/pylab/backend_inline.py:8\u001b[0m\n\u001b[1;32m      3\u001b[0m \u001b[38;5;66;03m# Copyright (c) IPython Development Team.\u001b[39;00m\n\u001b[1;32m      4\u001b[0m \u001b[38;5;66;03m# Distributed under the terms of the Modified BSD License.\u001b[39;00m\n\u001b[1;32m      6\u001b[0m \u001b[38;5;28;01mimport\u001b[39;00m \u001b[38;5;21;01mwarnings\u001b[39;00m\n\u001b[0;32m----> 8\u001b[0m \u001b[38;5;28;01mfrom\u001b[39;00m \u001b[38;5;21;01mmatplotlib_inline\u001b[39;00m\u001b[38;5;21;01m.\u001b[39;00m\u001b[38;5;21;01mbackend_inline\u001b[39;00m \u001b[38;5;28;01mimport\u001b[39;00m \u001b[38;5;241m*\u001b[39m  \u001b[38;5;66;03m# type:ignore[import-untyped] # noqa: F403  # analysis: ignore\u001b[39;00m\n\u001b[1;32m     10\u001b[0m warnings\u001b[38;5;241m.\u001b[39mwarn(\n\u001b[1;32m     11\u001b[0m     \u001b[38;5;124m\"\u001b[39m\u001b[38;5;124m`ipykernel.pylab.backend_inline` is deprecated, directly \u001b[39m\u001b[38;5;124m\"\u001b[39m\n\u001b[1;32m     12\u001b[0m     \u001b[38;5;124m\"\u001b[39m\u001b[38;5;124muse `matplotlib_inline.backend_inline`\u001b[39m\u001b[38;5;124m\"\u001b[39m,\n\u001b[1;32m     13\u001b[0m     \u001b[38;5;167;01mDeprecationWarning\u001b[39;00m,\n\u001b[1;32m     14\u001b[0m     stacklevel\u001b[38;5;241m=\u001b[39m\u001b[38;5;241m2\u001b[39m,\n\u001b[1;32m     15\u001b[0m )\n",
      "File \u001b[0;32m~/.local/lib/python3.12/site-packages/matplotlib_inline/__init__.py:1\u001b[0m\n\u001b[0;32m----> 1\u001b[0m \u001b[38;5;28;01mfrom\u001b[39;00m \u001b[38;5;21;01m.\u001b[39;00m \u001b[38;5;28;01mimport\u001b[39;00m backend_inline, config  \u001b[38;5;66;03m# noqa\u001b[39;00m\n\u001b[1;32m      2\u001b[0m __version__ \u001b[38;5;241m=\u001b[39m \u001b[38;5;124m\"\u001b[39m\u001b[38;5;124m0.1.7\u001b[39m\u001b[38;5;124m\"\u001b[39m  \u001b[38;5;66;03m# noqa\u001b[39;00m\n",
      "File \u001b[0;32m~/.local/lib/python3.12/site-packages/matplotlib_inline/backend_inline.py:228\u001b[0m\n\u001b[1;32m    224\u001b[0m                 ip\u001b[38;5;241m.\u001b[39mevents\u001b[38;5;241m.\u001b[39munregister(\u001b[38;5;124m'\u001b[39m\u001b[38;5;124mpost_run_cell\u001b[39m\u001b[38;5;124m'\u001b[39m, configure_once)\n\u001b[1;32m    225\u001b[0m             ip\u001b[38;5;241m.\u001b[39mevents\u001b[38;5;241m.\u001b[39mregister(\u001b[38;5;124m'\u001b[39m\u001b[38;5;124mpost_run_cell\u001b[39m\u001b[38;5;124m'\u001b[39m, configure_once)\n\u001b[0;32m--> 228\u001b[0m \u001b[43m_enable_matplotlib_integration\u001b[49m\u001b[43m(\u001b[49m\u001b[43m)\u001b[49m\n\u001b[1;32m    231\u001b[0m \u001b[38;5;28;01mdef\u001b[39;00m \u001b[38;5;21m_fetch_figure_metadata\u001b[39m(fig):\n\u001b[1;32m    232\u001b[0m \u001b[38;5;250m    \u001b[39m\u001b[38;5;124;03m\"\"\"Get some metadata to help with displaying a figure.\"\"\"\u001b[39;00m\n",
      "File \u001b[0;32m~/.local/lib/python3.12/site-packages/matplotlib_inline/backend_inline.py:218\u001b[0m, in \u001b[0;36m_enable_matplotlib_integration\u001b[0;34m()\u001b[0m\n\u001b[1;32m    216\u001b[0m \u001b[38;5;28;01mtry\u001b[39;00m:\n\u001b[1;32m    217\u001b[0m     activate_matplotlib(backend)\n\u001b[0;32m--> 218\u001b[0m     \u001b[43mconfigure_inline_support\u001b[49m\u001b[43m(\u001b[49m\u001b[43mip\u001b[49m\u001b[43m,\u001b[49m\u001b[43m \u001b[49m\u001b[43mbackend\u001b[49m\u001b[43m)\u001b[49m\n\u001b[1;32m    219\u001b[0m \u001b[38;5;28;01mexcept\u001b[39;00m (\u001b[38;5;167;01mImportError\u001b[39;00m, \u001b[38;5;167;01mAttributeError\u001b[39;00m):\n\u001b[1;32m    220\u001b[0m     \u001b[38;5;66;03m# bugs may cause a circular import on Python 2\u001b[39;00m\n\u001b[1;32m    221\u001b[0m     \u001b[38;5;28;01mdef\u001b[39;00m \u001b[38;5;21mconfigure_once\u001b[39m(\u001b[38;5;241m*\u001b[39margs):\n",
      "File \u001b[0;32m~/.local/lib/python3.12/site-packages/matplotlib_inline/backend_inline.py:205\u001b[0m, in \u001b[0;36mconfigure_inline_support\u001b[0;34m(shell, backend)\u001b[0m\n\u001b[1;32m    202\u001b[0m cur_backend \u001b[38;5;241m=\u001b[39m \u001b[38;5;28mgetattr\u001b[39m(configure_inline_support, \u001b[38;5;124m\"\u001b[39m\u001b[38;5;124mcurrent_backend\u001b[39m\u001b[38;5;124m\"\u001b[39m, \u001b[38;5;124m\"\u001b[39m\u001b[38;5;124munset\u001b[39m\u001b[38;5;124m\"\u001b[39m)\n\u001b[1;32m    203\u001b[0m \u001b[38;5;28;01mif\u001b[39;00m new_backend_name \u001b[38;5;241m!=\u001b[39m cur_backend:\n\u001b[1;32m    204\u001b[0m     \u001b[38;5;66;03m# Setup the default figure format\u001b[39;00m\n\u001b[0;32m--> 205\u001b[0m     \u001b[43mselect_figure_formats\u001b[49m\u001b[43m(\u001b[49m\u001b[43mshell\u001b[49m\u001b[43m,\u001b[49m\u001b[43m \u001b[49m\u001b[43mcfg\u001b[49m\u001b[38;5;241;43m.\u001b[39;49m\u001b[43mfigure_formats\u001b[49m\u001b[43m,\u001b[49m\u001b[43m \u001b[49m\u001b[38;5;241;43m*\u001b[39;49m\u001b[38;5;241;43m*\u001b[39;49m\u001b[43mcfg\u001b[49m\u001b[38;5;241;43m.\u001b[39;49m\u001b[43mprint_figure_kwargs\u001b[49m\u001b[43m)\u001b[49m\n\u001b[1;32m    206\u001b[0m     configure_inline_support\u001b[38;5;241m.\u001b[39mcurrent_backend \u001b[38;5;241m=\u001b[39m new_backend_name\n",
      "File \u001b[0;32m~/.local/lib/python3.12/site-packages/IPython/core/pylabtools.py:276\u001b[0m, in \u001b[0;36mselect_figure_formats\u001b[0;34m(shell, formats, **kwargs)\u001b[0m\n\u001b[1;32m    273\u001b[0m \u001b[38;5;28;01mimport\u001b[39;00m \u001b[38;5;21;01mmatplotlib\u001b[39;00m\n\u001b[1;32m    274\u001b[0m \u001b[38;5;28;01mfrom\u001b[39;00m \u001b[38;5;21;01mmatplotlib\u001b[39;00m\u001b[38;5;21;01m.\u001b[39;00m\u001b[38;5;21;01mfigure\u001b[39;00m \u001b[38;5;28;01mimport\u001b[39;00m Figure\n\u001b[0;32m--> 276\u001b[0m svg_formatter \u001b[38;5;241m=\u001b[39m \u001b[43mshell\u001b[49m\u001b[38;5;241;43m.\u001b[39;49m\u001b[43mdisplay_formatter\u001b[49m\u001b[38;5;241;43m.\u001b[39;49m\u001b[43mformatters\u001b[49m\u001b[43m[\u001b[49m\u001b[38;5;124;43m'\u001b[39;49m\u001b[38;5;124;43mimage/svg+xml\u001b[39;49m\u001b[38;5;124;43m'\u001b[39;49m\u001b[43m]\u001b[49m\n\u001b[1;32m    277\u001b[0m png_formatter \u001b[38;5;241m=\u001b[39m shell\u001b[38;5;241m.\u001b[39mdisplay_formatter\u001b[38;5;241m.\u001b[39mformatters[\u001b[38;5;124m'\u001b[39m\u001b[38;5;124mimage/png\u001b[39m\u001b[38;5;124m'\u001b[39m]\n\u001b[1;32m    278\u001b[0m jpg_formatter \u001b[38;5;241m=\u001b[39m shell\u001b[38;5;241m.\u001b[39mdisplay_formatter\u001b[38;5;241m.\u001b[39mformatters[\u001b[38;5;124m'\u001b[39m\u001b[38;5;124mimage/jpeg\u001b[39m\u001b[38;5;124m'\u001b[39m]\n",
      "\u001b[0;31mKeyError\u001b[0m: 'image/svg+xml'"
     ]
    }
   ],
   "source": [
    "check('tests/q1.py')"
   ]
  },
  {
   "cell_type": "markdown",
   "metadata": {},
   "source": [
    "Notice that the maximum value of `296` beats per minimute is WAY above normal range of heart rates. In fact, according to [heart.org](https://www.heart.org/en/healthy-living/fitness/fitness-basics/target-heart-rates) the highest estimated heart rate based on age ranges from 150 to 200 for adults. This will vary between individuals, but this is a good starting point for us to think about outliers in the heart rate values in this dataset. Let's see how many rows have missing data or heart rates above 200. "
   ]
  },
  {
   "cell_type": "code",
   "execution_count": 16,
   "metadata": {},
   "outputs": [
    {
     "name": "stdout",
     "output_type": "stream",
     "text": [
      "450\n"
     ]
    }
   ],
   "source": [
    "## select rows where Heart Rate is NaN or rows where the heart rate is above 200. \n",
    "# Emphasis on the usage of 'or' here, we want rows where either \n",
    "# scenario 1 (NaN) OR scenario 2 (>200) is true. \n",
    "\n",
    "outlierHeartRaterows = smartwatch[smartwatch['Heart Rate (BPM)'] > 200]\n",
    "nullHeartRaterows = smartwatch[smartwatch['Heart Rate (BPM)'].isnull()]\n",
    "\n",
    "print(len(outlierHeartRaterows) + len(nullHeartRaterows))"
   ]
  },
  {
   "cell_type": "code",
   "execution_count": 17,
   "metadata": {},
   "outputs": [
    {
     "name": "stdout",
     "output_type": "stream",
     "text": [
      "      User ID  Heart Rate (BPM)  Blood Oxygen Level (%)    Step Count  \\\n",
      "0      4174.0         58.939776               98.809650   5450.390578   \n",
      "3      2294.0         40.000000               96.894213  13797.338044   \n",
      "4      2130.0         61.950165               98.583797  15679.067648   \n",
      "5      2095.0         96.285938               94.202910  10205.992256   \n",
      "6      4772.0         47.272257               95.389760   3208.781177   \n",
      "...       ...               ...                     ...           ...   \n",
      "9994   1942.0         77.912299               98.640583  10061.145291   \n",
      "9995   1524.0         78.819386               98.931927   2948.491953   \n",
      "9996   4879.0         48.632659               95.773035   4725.623070   \n",
      "9997   2624.0         73.834442               97.945874   2571.492060   \n",
      "9999   4113.0         70.063864               98.475606    544.696104   \n",
      "\n",
      "     Sleep Duration (hours) Activity Level Stress Level  \n",
      "0         7.167235622316564  Highly Active            1  \n",
      "3         7.367789630207228          Actve            3  \n",
      "4                       NaN  Highly_Active            6  \n",
      "5         8.378342673824589  Highly_Active           10  \n",
      "6         7.871146008904113     Seddentary            2  \n",
      "...                     ...            ...          ...  \n",
      "9994      5.428634630125767     Seddentary           10  \n",
      "9995      7.402748595032027         Active            7  \n",
      "9996     6.3821659358529015      Sedentary            2  \n",
      "9997       6.91654920303435      Sedentary            4  \n",
      "9999      5.691001039740254          Actve            5  \n",
      "\n",
      "[9550 rows x 7 columns]\n"
     ]
    }
   ],
   "source": [
    "## Now let's get a table of all the other rows. \n",
    "heartrateRows = smartwatch[(~smartwatch['Heart Rate (BPM)'].isnull()) & (smartwatch['Heart Rate (BPM)'] <= 200)]\n",
    "\n",
    "print(heartrateRows)"
   ]
  },
  {
   "cell_type": "markdown",
   "metadata": {},
   "source": [
    "**Question 2:** \n",
    "\n",
    "Notice here that the length of the two tables (`450` and `9550`) add up to the total number rows (`n=10000`). This is a good sanity check as we manipulate the table. Now we have to decide how we deal with these missing values and outliers. One method to do this would be remove all the rows with null values or outlier values. Another method is use imputation - this can be done in several ways but below we're going to substitute the average heart rate for the missing and mismeasured values. Do we think this will change the mean?"
   ]
  },
  {
   "cell_type": "code",
   "execution_count": 39,
   "metadata": {},
   "outputs": [
    {
     "name": "stdout",
     "output_type": "stream",
     "text": [
      "75.13268404820141\n"
     ]
    }
   ],
   "source": [
    "HeartRateMean = heartrateRows['Heart Rate (BPM)'].mean() # find hr mean\n",
    "print(HeartRateMean)"
   ]
  },
  {
   "cell_type": "code",
   "execution_count": 40,
   "metadata": {},
   "outputs": [
    {
     "name": "stdout",
     "output_type": "stream",
     "text": [
      "      User ID  Heart Rate (BPM)  Blood Oxygen Level (%)    Step Count  \\\n",
      "2      1860.0         75.132684               97.052954   2826.521994   \n",
      "337    2369.0         75.132684               95.441773   2998.761919   \n",
      "393    2443.0         75.132684               95.497181   1227.804688   \n",
      "403    3200.0         75.132684               96.011492   9402.746140   \n",
      "595    2129.0         75.132684               97.161853   2555.402184   \n",
      "649    2008.0         75.132684               98.356789   2739.171166   \n",
      "818    3156.0         75.132684                     NaN   7281.778831   \n",
      "1195   3261.0         75.132684               99.652006   2867.872064   \n",
      "1391   4621.0         75.132684               96.688083  20577.677290   \n",
      "1602   4737.0         75.132684               95.095839  16072.283561   \n",
      "2023      NaN         75.132684               99.032130  17620.765455   \n",
      "2211   2711.0         75.132684               97.852781   1786.998129   \n",
      "2212   4020.0         75.132684               95.280955   3794.430590   \n",
      "2338   1762.0         75.132684               96.026123   9969.240744   \n",
      "2454   4902.0         75.132684               97.092166  11843.255005   \n",
      "3113   1035.0         75.132684               94.120618   5303.010562   \n",
      "3235   4478.0         75.132684               97.295126   2402.047207   \n",
      "3354   4976.0         75.132684               96.703748   4265.937611   \n",
      "3451   2768.0         75.132684               96.761963   4723.116194   \n",
      "3886   3856.0         75.132684               96.440489    841.196042   \n",
      "3983   1597.0         75.132684               99.396872  23860.187292   \n",
      "4146   1574.0         75.132684               98.386439   4255.759517   \n",
      "4185   4643.0         75.132684               95.415588  54698.646371   \n",
      "4254   3563.0         75.132684               95.768379   5871.602913   \n",
      "4275   1844.0         75.132684               97.847790   1855.481139   \n",
      "4366   2655.0         75.132684              100.000000  11331.922879   \n",
      "4509   4642.0         75.132684               97.983060   8526.218347   \n",
      "4521   4629.0         75.132684              100.000000   5614.112857   \n",
      "4780   2003.0         75.132684               98.242375   5299.159731   \n",
      "4792   3530.0         75.132684               99.960103   5396.348537   \n",
      "4833   4829.0         75.132684               97.920202  17207.114700   \n",
      "5090   4797.0         75.132684               98.647925   2604.794451   \n",
      "5170   2023.0         75.132684               94.316370    789.259057   \n",
      "5265   3277.0         75.132684              100.000000  10180.369091   \n",
      "5870   1499.0         75.132684               96.833301           NaN   \n",
      "6135   1389.0         75.132684               96.558205   2240.873043   \n",
      "6376   3218.0         75.132684               98.446205   8287.695252   \n",
      "6726   2338.0         75.132684               95.948327   3935.287388   \n",
      "6974   1935.0         75.132684               94.263021  25043.512031   \n",
      "7897   3488.0         75.132684               93.422300   1167.050964   \n",
      "8369   2283.0         75.132684                     NaN  21495.639335   \n",
      "8471   2706.0         75.132684               96.239663  19209.243829   \n",
      "8692   1698.0         75.132684               96.382266   3225.230149   \n",
      "8895   3294.0         75.132684              100.000000  18039.603487   \n",
      "8997      NaN         75.132684               96.643436   4226.877196   \n",
      "9164   3381.0         75.132684               98.982453   5247.004522   \n",
      "9438   4411.0         75.132684               99.524016  11209.020829   \n",
      "9654   2898.0         75.132684               96.082553     45.956119   \n",
      "9665   2069.0         75.132684               96.509094   5002.019249   \n",
      "9752   4683.0         75.132684               97.371766   5759.938203   \n",
      "\n",
      "     Sleep Duration (hours) Activity Level Stress Level  \n",
      "2                     ERROR  Highly Active            5  \n",
      "337       6.670622263019579  Highly Active            9  \n",
      "393       5.185244686595328  Highly_Active            9  \n",
      "403       7.190062873693008  Highly_Active            9  \n",
      "595       5.928628388578222  Highly Active            7  \n",
      "649       7.272009723254014  Highly_Active          NaN  \n",
      "818       4.300171191258864      Sedentary            3  \n",
      "1195      7.218530947169898         Active            7  \n",
      "1391      8.049854248644627         Active            3  \n",
      "1602       6.98847026102848          Actve            6  \n",
      "2023      7.641814526532746      Sedentary          NaN  \n",
      "2211      9.403363125752087         Active            5  \n",
      "2212      9.471210427832666     Seddentary            2  \n",
      "2338      7.434143975499938      Sedentary            4  \n",
      "2454     4.8230739165423175      Sedentary            5  \n",
      "3113      5.216491298730846         Active            4  \n",
      "3235       8.40664811517765     Seddentary            3  \n",
      "3354      6.272040953618372     Seddentary            4  \n",
      "3451      7.656776835132766  Highly Active            3  \n",
      "3886        8.5141016110168     Seddentary            7  \n",
      "3983       9.72770039263133  Highly Active           10  \n",
      "4146      9.950312577595927      Sedentary            1  \n",
      "4185        8.4611474189254            NaN           10  \n",
      "4254      6.169674782300074          Actve            3  \n",
      "4275      7.103458436811003      Sedentary            5  \n",
      "4366      6.252116628792069          Actve            8  \n",
      "4509      7.157804627096766  Highly Active            1  \n",
      "4521      6.304731924019175         Active            2  \n",
      "4780      8.471284845728434         Active            1  \n",
      "4792       5.03699852197675          Actve            4  \n",
      "4833       5.93139606422032  Highly_Active            3  \n",
      "5090      4.604169369845159  Highly Active            1  \n",
      "5170      4.456316515329178            NaN            6  \n",
      "5265      5.234907365011507      Sedentary            1  \n",
      "5870      7.221605491090915      Sedentary            9  \n",
      "6135      6.249638938845372  Highly_Active            7  \n",
      "6376      4.174557486059257  Highly Active           10  \n",
      "6726      9.145513040749627      Sedentary            1  \n",
      "6974      5.452934114413052  Highly_Active            6  \n",
      "7897     6.3843230507913775          Actve            7  \n",
      "8369      5.291653956497481  Highly_Active            2  \n",
      "8471       7.26153538491556          Actve            9  \n",
      "8692      6.801618776704774     Seddentary            6  \n",
      "8895      7.064974772457126         Active            9  \n",
      "8997     5.2023674086270795  Highly_Active            3  \n",
      "9164      9.026252817225515  Highly Active            6  \n",
      "9438                  ERROR  Highly Active            3  \n",
      "9654       5.63988977577483         Active            3  \n",
      "9665       7.82197109767565     Seddentary            2  \n",
      "9752      5.496136294267198      Sedentary            9  \n",
      "      User ID  Heart Rate (BPM)  Blood Oxygen Level (%)    Step Count  \\\n",
      "1         NaN         75.132684               98.532195    727.601610   \n",
      "17     3919.0         75.132684               96.052853   3488.919508   \n",
      "75     3945.0         75.132684              100.000000   3124.118038   \n",
      "105    2981.0         75.132684               98.276558   3039.112276   \n",
      "158    4099.0         75.132684               99.478461  11559.663606   \n",
      "...       ...               ...                     ...           ...   \n",
      "9875      NaN         75.132684               99.842527   4454.770218   \n",
      "9956   1476.0         75.132684              100.000000   3584.236177   \n",
      "9971   1434.0         75.132684               99.319841     26.215769   \n",
      "9990      NaN         75.132684              100.000000   3817.269018   \n",
      "9998   4907.0         75.132684               98.401058   3364.788855   \n",
      "\n",
      "     Sleep Duration (hours) Activity Level Stress Level  \n",
      "1         6.538239375570314  Highly_Active            5  \n",
      "17        6.718661172525927     Seddentary            4  \n",
      "75        4.229887888280923          Actve            1  \n",
      "105       5.209658021888749            NaN            6  \n",
      "158       6.470651489160172  Highly_Active            7  \n",
      "...                     ...            ...          ...  \n",
      "9875      5.520745925308887      Sedentary            3  \n",
      "9956      6.659533807452561  Highly_Active            5  \n",
      "9971      6.367659085134144         Active           10  \n",
      "9990      8.595259517189332     Seddentary            2  \n",
      "9998      5.691233932149209         Active            8  \n",
      "\n",
      "[400 rows x 7 columns]\n"
     ]
    },
    {
     "name": "stderr",
     "output_type": "stream",
     "text": [
      "/tmp/ipykernel_12300/2581598007.py:1: SettingWithCopyWarning: \n",
      "A value is trying to be set on a copy of a slice from a DataFrame.\n",
      "Try using .loc[row_indexer,col_indexer] = value instead\n",
      "\n",
      "See the caveats in the documentation: https://pandas.pydata.org/pandas-docs/stable/user_guide/indexing.html#returning-a-view-versus-a-copy\n",
      "  outlierHeartRaterows['Heart Rate (BPM)'] = HeartRateMean # impose mean onto hr bpm column for values\n",
      "/tmp/ipykernel_12300/2581598007.py:2: SettingWithCopyWarning: \n",
      "A value is trying to be set on a copy of a slice from a DataFrame.\n",
      "Try using .loc[row_indexer,col_indexer] = value instead\n",
      "\n",
      "See the caveats in the documentation: https://pandas.pydata.org/pandas-docs/stable/user_guide/indexing.html#returning-a-view-versus-a-copy\n",
      "  nullHeartRaterows['Heart Rate (BPM)'] = HeartRateMean # that are outliers or null\n"
     ]
    }
   ],
   "source": [
    "outlierHeartRaterows['Heart Rate (BPM)'] = HeartRateMean # impose mean onto hr bpm column for values \n",
    "nullHeartRaterows['Heart Rate (BPM)'] = HeartRateMean # that are outliers or null\n",
    "\n",
    "\n",
    "print(outlierHeartRaterows)\n",
    "print(nullHeartRaterows)"
   ]
  },
  {
   "cell_type": "code",
   "execution_count": 41,
   "metadata": {},
   "outputs": [
    {
     "name": "stdout",
     "output_type": "stream",
     "text": [
      "75.13268404820141\n"
     ]
    }
   ],
   "source": [
    "smartwatch_hr = pd.concat([outlierHeartRaterows, nullHeartRaterows, heartrateRows]) # concatenate outliers, nulls, and hr\n",
    "# outliers and null are usable for hr column now\n",
    "\n",
    "fullTableHRMean = smartwatch_hr['Heart Rate (BPM)'].mean()\n",
    "print(fullTableHRMean)"
   ]
  },
  {
   "cell_type": "code",
   "execution_count": null,
   "metadata": {},
   "outputs": [],
   "source": [
    "check('tests/q2.py')"
   ]
  },
  {
   "cell_type": "markdown",
   "metadata": {},
   "source": [
    "Notice how the mean doesn't change when you use the imputed mean as the substituted values. However, as a note this will change the distribution of values and has the potential to obscure the causes of missing values or outliers. "
   ]
  },
  {
   "cell_type": "code",
   "execution_count": 29,
   "metadata": {},
   "outputs": [
    {
     "ename": "NameError",
     "evalue": "name '_fetch_figure_metadata' is not defined",
     "output_type": "error",
     "traceback": [
      "\u001b[0;31m---------------------------------------------------------------------------\u001b[0m",
      "\u001b[0;31mNameError\u001b[0m                                 Traceback (most recent call last)",
      "File \u001b[0;32m~/.local/lib/python3.12/site-packages/matplotlib_inline/backend_inline.py:92\u001b[0m, in \u001b[0;36mshow\u001b[0;34m(close, block)\u001b[0m\n\u001b[1;32m     88\u001b[0m \u001b[38;5;28;01mtry\u001b[39;00m:\n\u001b[1;32m     89\u001b[0m     \u001b[38;5;28;01mfor\u001b[39;00m figure_manager \u001b[38;5;129;01min\u001b[39;00m Gcf\u001b[38;5;241m.\u001b[39mget_all_fig_managers():\n\u001b[1;32m     90\u001b[0m         display(\n\u001b[1;32m     91\u001b[0m             figure_manager\u001b[38;5;241m.\u001b[39mcanvas\u001b[38;5;241m.\u001b[39mfigure,\n\u001b[0;32m---> 92\u001b[0m             metadata\u001b[38;5;241m=\u001b[39m\u001b[43m_fetch_figure_metadata\u001b[49m(figure_manager\u001b[38;5;241m.\u001b[39mcanvas\u001b[38;5;241m.\u001b[39mfigure)\n\u001b[1;32m     93\u001b[0m         )\n\u001b[1;32m     94\u001b[0m \u001b[38;5;28;01mfinally\u001b[39;00m:\n\u001b[1;32m     95\u001b[0m     show\u001b[38;5;241m.\u001b[39m_to_draw \u001b[38;5;241m=\u001b[39m []\n",
      "\u001b[0;31mNameError\u001b[0m: name '_fetch_figure_metadata' is not defined"
     ]
    }
   ],
   "source": [
    "sns.histplot(smartwatch['Heart Rate (BPM)'], label ='With Missing Values and Outliers')\n",
    "sns.histplot(smartwatch_hr['Heart Rate (BPM)'], label = 'With Mean as Imputed Value')\n",
    "plt.legend()"
   ]
  },
  {
   "cell_type": "markdown",
   "metadata": {},
   "source": [
    "**Question 3**: How does the imputation method affect the median values?  Remember the table `smartwatch` remains unchanged and can be used to find the original median value. \n",
    "\n",
    "ANSWER: The mean imputation only slightly changes the median, with a difference of -0.04. This makes sense as the median is a robust statistic and is less sensitive to the presence of outliers.\n"
   ]
  },
  {
   "cell_type": "code",
   "execution_count": 37,
   "metadata": {},
   "outputs": [
    {
     "name": "stdout",
     "output_type": "stream",
     "text": [
      "The change in median is -0.0472922126833879\n"
     ]
    }
   ],
   "source": [
    "## coding cell to check the difference in median values \n",
    "\n",
    "med_1 = smartwatch['Heart Rate (BPM)'].median()\n",
    "med_2 = smartwatch_hr['Heart Rate (BPM)'].median()\n",
    "\n",
    "print(\"The change in median is \" + str(med_2 - med_1))\n"
   ]
  },
  {
   "cell_type": "markdown",
   "metadata": {},
   "source": [
    "Now let's repeat this process for the other columns as well. \n",
    "\n",
    "**Question 4**: Find the minimum, maximum, and mean Blood Oxygen Level. "
   ]
  },
  {
   "cell_type": "code",
   "execution_count": 30,
   "metadata": {},
   "outputs": [
    {
     "name": "stdout",
     "output_type": "stream",
     "text": [
      "90.79120814564097 100.0 97.84158102099076\n"
     ]
    }
   ],
   "source": [
    "minBloodO2 = smartwatch['Blood Oxygen Level (%)'].min()\n",
    "\n",
    "maxBloodO2 = smartwatch['Blood Oxygen Level (%)'].max()\n",
    "\n",
    "meanBloodO2 = smartwatch['Blood Oxygen Level (%)'].mean()\n",
    "\n",
    "print(minBloodO2, maxBloodO2, meanBloodO2)"
   ]
  },
  {
   "cell_type": "code",
   "execution_count": 31,
   "metadata": {},
   "outputs": [
    {
     "ename": "KeyError",
     "evalue": "'image/svg+xml'",
     "output_type": "error",
     "traceback": [
      "\u001b[0;31m---------------------------------------------------------------------------\u001b[0m",
      "\u001b[0;31mKeyError\u001b[0m                                  Traceback (most recent call last)",
      "Cell \u001b[0;32mIn[31], line 1\u001b[0m\n\u001b[0;32m----> 1\u001b[0m \u001b[43mcheck\u001b[49m\u001b[43m(\u001b[49m\u001b[38;5;124;43m'\u001b[39;49m\u001b[38;5;124;43mtests/q4.py\u001b[39;49m\u001b[38;5;124;43m'\u001b[39;49m\u001b[43m)\u001b[49m\n",
      "File \u001b[0;32m~/.python/current/lib/python3.12/site-packages/gofer/ok.py:299\u001b[0m, in \u001b[0;36mcheck\u001b[0;34m(test_file_path, global_env)\u001b[0m\n\u001b[1;32m    293\u001b[0m \u001b[38;5;28;01mif\u001b[39;00m global_env \u001b[38;5;129;01mis\u001b[39;00m \u001b[38;5;28;01mNone\u001b[39;00m:\n\u001b[1;32m    294\u001b[0m     \u001b[38;5;66;03m# Get the global env of our callers - one level below us in the stack\u001b[39;00m\n\u001b[1;32m    295\u001b[0m     \u001b[38;5;66;03m# The grade method should only be called directly from user / notebook\u001b[39;00m\n\u001b[1;32m    296\u001b[0m     \u001b[38;5;66;03m# code. If some other method is calling it, it should also use the\u001b[39;00m\n\u001b[1;32m    297\u001b[0m     \u001b[38;5;66;03m# inspect trick to pass in its parents' global env.\u001b[39;00m\n\u001b[1;32m    298\u001b[0m     global_env \u001b[38;5;241m=\u001b[39m inspect\u001b[38;5;241m.\u001b[39mcurrentframe()\u001b[38;5;241m.\u001b[39mf_back\u001b[38;5;241m.\u001b[39mf_globals\n\u001b[0;32m--> 299\u001b[0m \u001b[38;5;28;01mreturn\u001b[39;00m \u001b[43mtests\u001b[49m\u001b[38;5;241;43m.\u001b[39;49m\u001b[43mrun\u001b[49m\u001b[43m(\u001b[49m\u001b[43mglobal_env\u001b[49m\u001b[43m,\u001b[49m\u001b[43m \u001b[49m\u001b[43minclude_grade\u001b[49m\u001b[38;5;241;43m=\u001b[39;49m\u001b[38;5;28;43;01mFalse\u001b[39;49;00m\u001b[43m)\u001b[49m\n",
      "File \u001b[0;32m~/.python/current/lib/python3.12/site-packages/gofer/ok.py:147\u001b[0m, in \u001b[0;36mOKTests.run\u001b[0;34m(self, global_environment, include_grade)\u001b[0m\n\u001b[1;32m    145\u001b[0m \u001b[38;5;28;01mfor\u001b[39;00m t \u001b[38;5;129;01min\u001b[39;00m \u001b[38;5;28mself\u001b[39m\u001b[38;5;241m.\u001b[39mtests:\n\u001b[1;32m    146\u001b[0m     total \u001b[38;5;241m+\u001b[39m\u001b[38;5;241m=\u001b[39m t\u001b[38;5;241m.\u001b[39mvalue\n\u001b[0;32m--> 147\u001b[0m     passed, hint \u001b[38;5;241m=\u001b[39m \u001b[43mt\u001b[49m\u001b[38;5;241;43m.\u001b[39;49m\u001b[43mrun\u001b[49m\u001b[43m(\u001b[49m\u001b[43mglobal_environment\u001b[49m\u001b[43m)\u001b[49m\n\u001b[1;32m    148\u001b[0m     \u001b[38;5;28;01mif\u001b[39;00m passed:\n\u001b[1;32m    149\u001b[0m         grade \u001b[38;5;241m+\u001b[39m\u001b[38;5;241m=\u001b[39m t\u001b[38;5;241m.\u001b[39mvalue\n",
      "File \u001b[0;32m~/.python/current/lib/python3.12/site-packages/gofer/ok.py:89\u001b[0m, in \u001b[0;36mOKTest.run\u001b[0;34m(self, global_environment)\u001b[0m\n\u001b[1;32m     87\u001b[0m \u001b[38;5;28;01mdef\u001b[39;00m \u001b[38;5;21mrun\u001b[39m(\u001b[38;5;28mself\u001b[39m, global_environment):\n\u001b[1;32m     88\u001b[0m     \u001b[38;5;28;01mfor\u001b[39;00m i, t \u001b[38;5;129;01min\u001b[39;00m \u001b[38;5;28menumerate\u001b[39m(\u001b[38;5;28mself\u001b[39m\u001b[38;5;241m.\u001b[39mtests):\n\u001b[0;32m---> 89\u001b[0m         passed, result \u001b[38;5;241m=\u001b[39m \u001b[43mrun_doctest\u001b[49m\u001b[43m(\u001b[49m\u001b[38;5;28;43mself\u001b[39;49m\u001b[38;5;241;43m.\u001b[39;49m\u001b[43mname\u001b[49m\u001b[43m \u001b[49m\u001b[38;5;241;43m+\u001b[39;49m\u001b[43m \u001b[49m\u001b[38;5;124;43m'\u001b[39;49m\u001b[38;5;124;43m \u001b[39;49m\u001b[38;5;124;43m'\u001b[39;49m\u001b[43m \u001b[49m\u001b[38;5;241;43m+\u001b[39;49m\u001b[43m \u001b[49m\u001b[38;5;28;43mstr\u001b[39;49m\u001b[43m(\u001b[49m\u001b[43mi\u001b[49m\u001b[43m)\u001b[49m\u001b[43m,\u001b[49m\u001b[43m \u001b[49m\u001b[43mt\u001b[49m\u001b[43m,\u001b[49m\u001b[43m \u001b[49m\u001b[43mglobal_environment\u001b[49m\u001b[43m)\u001b[49m\n\u001b[1;32m     90\u001b[0m         \u001b[38;5;28;01mif\u001b[39;00m \u001b[38;5;129;01mnot\u001b[39;00m passed:\n\u001b[1;32m     91\u001b[0m             \u001b[38;5;28;01mreturn\u001b[39;00m \u001b[38;5;28;01mFalse\u001b[39;00m, OKTest\u001b[38;5;241m.\u001b[39mresult_fail_template\u001b[38;5;241m.\u001b[39mrender(\n\u001b[1;32m     92\u001b[0m                 name\u001b[38;5;241m=\u001b[39m\u001b[38;5;28mself\u001b[39m\u001b[38;5;241m.\u001b[39mname,\n\u001b[1;32m     93\u001b[0m                 test_code\u001b[38;5;241m=\u001b[39mhighlight(t, PythonConsoleLexer(), HtmlFormatter(noclasses\u001b[38;5;241m=\u001b[39m\u001b[38;5;28;01mTrue\u001b[39;00m)),\n\u001b[1;32m     94\u001b[0m                 test_result\u001b[38;5;241m=\u001b[39mresult\n\u001b[1;32m     95\u001b[0m             )\n",
      "File \u001b[0;32m~/.python/current/lib/python3.12/site-packages/gofer/ok.py:45\u001b[0m, in \u001b[0;36mrun_doctest\u001b[0;34m(name, doctest_string, global_environment)\u001b[0m\n\u001b[1;32m     42\u001b[0m doctestrunner \u001b[38;5;241m=\u001b[39m doctest\u001b[38;5;241m.\u001b[39mDocTestRunner(verbose\u001b[38;5;241m=\u001b[39m\u001b[38;5;28;01mTrue\u001b[39;00m)\n\u001b[1;32m     44\u001b[0m runresults \u001b[38;5;241m=\u001b[39m io\u001b[38;5;241m.\u001b[39mStringIO()\n\u001b[0;32m---> 45\u001b[0m \u001b[43m\u001b[49m\u001b[38;5;28;43;01mwith\u001b[39;49;00m\u001b[43m \u001b[49m\u001b[43mredirect_stdout\u001b[49m\u001b[43m(\u001b[49m\u001b[43mrunresults\u001b[49m\u001b[43m)\u001b[49m\u001b[43m,\u001b[49m\u001b[43m \u001b[49m\u001b[43mredirect_stderr\u001b[49m\u001b[43m(\u001b[49m\u001b[43mrunresults\u001b[49m\u001b[43m)\u001b[49m\u001b[43m,\u001b[49m\u001b[43m \u001b[49m\u001b[43mhide_outputs\u001b[49m\u001b[43m(\u001b[49m\u001b[43m)\u001b[49m\u001b[43m:\u001b[49m\n\u001b[1;32m     46\u001b[0m \u001b[43m    \u001b[49m\u001b[43mdoctestrunner\u001b[49m\u001b[38;5;241;43m.\u001b[39;49m\u001b[43mrun\u001b[49m\u001b[43m(\u001b[49m\u001b[43mtest\u001b[49m\u001b[43m,\u001b[49m\u001b[43m \u001b[49m\u001b[43mclear_globs\u001b[49m\u001b[38;5;241;43m=\u001b[39;49m\u001b[38;5;28;43;01mFalse\u001b[39;49;00m\u001b[43m)\u001b[49m\n\u001b[1;32m     47\u001b[0m \u001b[38;5;28;01mwith\u001b[39;00m \u001b[38;5;28mopen\u001b[39m(os\u001b[38;5;241m.\u001b[39mdevnull, \u001b[38;5;124m'\u001b[39m\u001b[38;5;124mw\u001b[39m\u001b[38;5;124m'\u001b[39m) \u001b[38;5;28;01mas\u001b[39;00m f, redirect_stderr(f), redirect_stdout(f):\n",
      "File \u001b[0;32m~/.python/current/lib/python3.12/contextlib.py:144\u001b[0m, in \u001b[0;36m_GeneratorContextManager.__exit__\u001b[0;34m(self, typ, value, traceback)\u001b[0m\n\u001b[1;32m    142\u001b[0m \u001b[38;5;28;01mif\u001b[39;00m typ \u001b[38;5;129;01mis\u001b[39;00m \u001b[38;5;28;01mNone\u001b[39;00m:\n\u001b[1;32m    143\u001b[0m     \u001b[38;5;28;01mtry\u001b[39;00m:\n\u001b[0;32m--> 144\u001b[0m         \u001b[38;5;28;43mnext\u001b[39;49m\u001b[43m(\u001b[49m\u001b[38;5;28;43mself\u001b[39;49m\u001b[38;5;241;43m.\u001b[39;49m\u001b[43mgen\u001b[49m\u001b[43m)\u001b[49m\n\u001b[1;32m    145\u001b[0m     \u001b[38;5;28;01mexcept\u001b[39;00m \u001b[38;5;167;01mStopIteration\u001b[39;00m:\n\u001b[1;32m    146\u001b[0m         \u001b[38;5;28;01mreturn\u001b[39;00m \u001b[38;5;28;01mFalse\u001b[39;00m\n",
      "File \u001b[0;32m~/.python/current/lib/python3.12/site-packages/gofer/utils.py:48\u001b[0m, in \u001b[0;36mhide_outputs\u001b[0;34m()\u001b[0m\n\u001b[1;32m     46\u001b[0m     \u001b[38;5;28;01myield\u001b[39;00m\n\u001b[1;32m     47\u001b[0m \u001b[38;5;28;01mfinally\u001b[39;00m:\n\u001b[0;32m---> 48\u001b[0m     \u001b[43mflush_inline_matplotlib_plots\u001b[49m\u001b[43m(\u001b[49m\u001b[43m)\u001b[49m\n\u001b[1;32m     49\u001b[0m     ipy\u001b[38;5;241m.\u001b[39mdisplay_formatter\u001b[38;5;241m.\u001b[39mformatters \u001b[38;5;241m=\u001b[39m old_formatters\n",
      "File \u001b[0;32m~/.python/current/lib/python3.12/site-packages/gofer/utils.py:23\u001b[0m, in \u001b[0;36mflush_inline_matplotlib_plots\u001b[0;34m()\u001b[0m\n\u001b[1;32m     21\u001b[0m \u001b[38;5;28;01mtry\u001b[39;00m:\n\u001b[1;32m     22\u001b[0m     \u001b[38;5;28;01mimport\u001b[39;00m \u001b[38;5;21;01mmatplotlib\u001b[39;00m \u001b[38;5;28;01mas\u001b[39;00m \u001b[38;5;21;01mmpl\u001b[39;00m\n\u001b[0;32m---> 23\u001b[0m     \u001b[38;5;28;01mfrom\u001b[39;00m \u001b[38;5;21;01mipykernel\u001b[39;00m\u001b[38;5;21;01m.\u001b[39;00m\u001b[38;5;21;01mpylab\u001b[39;00m\u001b[38;5;21;01m.\u001b[39;00m\u001b[38;5;21;01mbackend_inline\u001b[39;00m \u001b[38;5;28;01mimport\u001b[39;00m flush_figures\n\u001b[1;32m     24\u001b[0m \u001b[38;5;28;01mexcept\u001b[39;00m \u001b[38;5;167;01mImportError\u001b[39;00m:\n\u001b[1;32m     25\u001b[0m     \u001b[38;5;28;01mreturn\u001b[39;00m\n",
      "File \u001b[0;32m~/.local/lib/python3.12/site-packages/ipykernel/pylab/backend_inline.py:8\u001b[0m\n\u001b[1;32m      3\u001b[0m \u001b[38;5;66;03m# Copyright (c) IPython Development Team.\u001b[39;00m\n\u001b[1;32m      4\u001b[0m \u001b[38;5;66;03m# Distributed under the terms of the Modified BSD License.\u001b[39;00m\n\u001b[1;32m      6\u001b[0m \u001b[38;5;28;01mimport\u001b[39;00m \u001b[38;5;21;01mwarnings\u001b[39;00m\n\u001b[0;32m----> 8\u001b[0m \u001b[38;5;28;01mfrom\u001b[39;00m \u001b[38;5;21;01mmatplotlib_inline\u001b[39;00m\u001b[38;5;21;01m.\u001b[39;00m\u001b[38;5;21;01mbackend_inline\u001b[39;00m \u001b[38;5;28;01mimport\u001b[39;00m \u001b[38;5;241m*\u001b[39m  \u001b[38;5;66;03m# type:ignore[import-untyped] # noqa: F403  # analysis: ignore\u001b[39;00m\n\u001b[1;32m     10\u001b[0m warnings\u001b[38;5;241m.\u001b[39mwarn(\n\u001b[1;32m     11\u001b[0m     \u001b[38;5;124m\"\u001b[39m\u001b[38;5;124m`ipykernel.pylab.backend_inline` is deprecated, directly \u001b[39m\u001b[38;5;124m\"\u001b[39m\n\u001b[1;32m     12\u001b[0m     \u001b[38;5;124m\"\u001b[39m\u001b[38;5;124muse `matplotlib_inline.backend_inline`\u001b[39m\u001b[38;5;124m\"\u001b[39m,\n\u001b[1;32m     13\u001b[0m     \u001b[38;5;167;01mDeprecationWarning\u001b[39;00m,\n\u001b[1;32m     14\u001b[0m     stacklevel\u001b[38;5;241m=\u001b[39m\u001b[38;5;241m2\u001b[39m,\n\u001b[1;32m     15\u001b[0m )\n",
      "File \u001b[0;32m~/.local/lib/python3.12/site-packages/matplotlib_inline/__init__.py:1\u001b[0m\n\u001b[0;32m----> 1\u001b[0m \u001b[38;5;28;01mfrom\u001b[39;00m \u001b[38;5;21;01m.\u001b[39;00m \u001b[38;5;28;01mimport\u001b[39;00m backend_inline, config  \u001b[38;5;66;03m# noqa\u001b[39;00m\n\u001b[1;32m      2\u001b[0m __version__ \u001b[38;5;241m=\u001b[39m \u001b[38;5;124m\"\u001b[39m\u001b[38;5;124m0.1.7\u001b[39m\u001b[38;5;124m\"\u001b[39m  \u001b[38;5;66;03m# noqa\u001b[39;00m\n",
      "File \u001b[0;32m~/.local/lib/python3.12/site-packages/matplotlib_inline/backend_inline.py:228\u001b[0m\n\u001b[1;32m    224\u001b[0m                 ip\u001b[38;5;241m.\u001b[39mevents\u001b[38;5;241m.\u001b[39munregister(\u001b[38;5;124m'\u001b[39m\u001b[38;5;124mpost_run_cell\u001b[39m\u001b[38;5;124m'\u001b[39m, configure_once)\n\u001b[1;32m    225\u001b[0m             ip\u001b[38;5;241m.\u001b[39mevents\u001b[38;5;241m.\u001b[39mregister(\u001b[38;5;124m'\u001b[39m\u001b[38;5;124mpost_run_cell\u001b[39m\u001b[38;5;124m'\u001b[39m, configure_once)\n\u001b[0;32m--> 228\u001b[0m \u001b[43m_enable_matplotlib_integration\u001b[49m\u001b[43m(\u001b[49m\u001b[43m)\u001b[49m\n\u001b[1;32m    231\u001b[0m \u001b[38;5;28;01mdef\u001b[39;00m \u001b[38;5;21m_fetch_figure_metadata\u001b[39m(fig):\n\u001b[1;32m    232\u001b[0m \u001b[38;5;250m    \u001b[39m\u001b[38;5;124;03m\"\"\"Get some metadata to help with displaying a figure.\"\"\"\u001b[39;00m\n",
      "File \u001b[0;32m~/.local/lib/python3.12/site-packages/matplotlib_inline/backend_inline.py:218\u001b[0m, in \u001b[0;36m_enable_matplotlib_integration\u001b[0;34m()\u001b[0m\n\u001b[1;32m    216\u001b[0m \u001b[38;5;28;01mtry\u001b[39;00m:\n\u001b[1;32m    217\u001b[0m     activate_matplotlib(backend)\n\u001b[0;32m--> 218\u001b[0m     \u001b[43mconfigure_inline_support\u001b[49m\u001b[43m(\u001b[49m\u001b[43mip\u001b[49m\u001b[43m,\u001b[49m\u001b[43m \u001b[49m\u001b[43mbackend\u001b[49m\u001b[43m)\u001b[49m\n\u001b[1;32m    219\u001b[0m \u001b[38;5;28;01mexcept\u001b[39;00m (\u001b[38;5;167;01mImportError\u001b[39;00m, \u001b[38;5;167;01mAttributeError\u001b[39;00m):\n\u001b[1;32m    220\u001b[0m     \u001b[38;5;66;03m# bugs may cause a circular import on Python 2\u001b[39;00m\n\u001b[1;32m    221\u001b[0m     \u001b[38;5;28;01mdef\u001b[39;00m \u001b[38;5;21mconfigure_once\u001b[39m(\u001b[38;5;241m*\u001b[39margs):\n",
      "File \u001b[0;32m~/.local/lib/python3.12/site-packages/matplotlib_inline/backend_inline.py:205\u001b[0m, in \u001b[0;36mconfigure_inline_support\u001b[0;34m(shell, backend)\u001b[0m\n\u001b[1;32m    202\u001b[0m cur_backend \u001b[38;5;241m=\u001b[39m \u001b[38;5;28mgetattr\u001b[39m(configure_inline_support, \u001b[38;5;124m\"\u001b[39m\u001b[38;5;124mcurrent_backend\u001b[39m\u001b[38;5;124m\"\u001b[39m, \u001b[38;5;124m\"\u001b[39m\u001b[38;5;124munset\u001b[39m\u001b[38;5;124m\"\u001b[39m)\n\u001b[1;32m    203\u001b[0m \u001b[38;5;28;01mif\u001b[39;00m new_backend_name \u001b[38;5;241m!=\u001b[39m cur_backend:\n\u001b[1;32m    204\u001b[0m     \u001b[38;5;66;03m# Setup the default figure format\u001b[39;00m\n\u001b[0;32m--> 205\u001b[0m     \u001b[43mselect_figure_formats\u001b[49m\u001b[43m(\u001b[49m\u001b[43mshell\u001b[49m\u001b[43m,\u001b[49m\u001b[43m \u001b[49m\u001b[43mcfg\u001b[49m\u001b[38;5;241;43m.\u001b[39;49m\u001b[43mfigure_formats\u001b[49m\u001b[43m,\u001b[49m\u001b[43m \u001b[49m\u001b[38;5;241;43m*\u001b[39;49m\u001b[38;5;241;43m*\u001b[39;49m\u001b[43mcfg\u001b[49m\u001b[38;5;241;43m.\u001b[39;49m\u001b[43mprint_figure_kwargs\u001b[49m\u001b[43m)\u001b[49m\n\u001b[1;32m    206\u001b[0m     configure_inline_support\u001b[38;5;241m.\u001b[39mcurrent_backend \u001b[38;5;241m=\u001b[39m new_backend_name\n",
      "File \u001b[0;32m~/.local/lib/python3.12/site-packages/IPython/core/pylabtools.py:276\u001b[0m, in \u001b[0;36mselect_figure_formats\u001b[0;34m(shell, formats, **kwargs)\u001b[0m\n\u001b[1;32m    273\u001b[0m \u001b[38;5;28;01mimport\u001b[39;00m \u001b[38;5;21;01mmatplotlib\u001b[39;00m\n\u001b[1;32m    274\u001b[0m \u001b[38;5;28;01mfrom\u001b[39;00m \u001b[38;5;21;01mmatplotlib\u001b[39;00m\u001b[38;5;21;01m.\u001b[39;00m\u001b[38;5;21;01mfigure\u001b[39;00m \u001b[38;5;28;01mimport\u001b[39;00m Figure\n\u001b[0;32m--> 276\u001b[0m svg_formatter \u001b[38;5;241m=\u001b[39m \u001b[43mshell\u001b[49m\u001b[38;5;241;43m.\u001b[39;49m\u001b[43mdisplay_formatter\u001b[49m\u001b[38;5;241;43m.\u001b[39;49m\u001b[43mformatters\u001b[49m\u001b[43m[\u001b[49m\u001b[38;5;124;43m'\u001b[39;49m\u001b[38;5;124;43mimage/svg+xml\u001b[39;49m\u001b[38;5;124;43m'\u001b[39;49m\u001b[43m]\u001b[49m\n\u001b[1;32m    277\u001b[0m png_formatter \u001b[38;5;241m=\u001b[39m shell\u001b[38;5;241m.\u001b[39mdisplay_formatter\u001b[38;5;241m.\u001b[39mformatters[\u001b[38;5;124m'\u001b[39m\u001b[38;5;124mimage/png\u001b[39m\u001b[38;5;124m'\u001b[39m]\n\u001b[1;32m    278\u001b[0m jpg_formatter \u001b[38;5;241m=\u001b[39m shell\u001b[38;5;241m.\u001b[39mdisplay_formatter\u001b[38;5;241m.\u001b[39mformatters[\u001b[38;5;124m'\u001b[39m\u001b[38;5;124mimage/jpeg\u001b[39m\u001b[38;5;124m'\u001b[39m]\n",
      "\u001b[0;31mKeyError\u001b[0m: 'image/svg+xml'"
     ]
    }
   ],
   "source": [
    "check('tests/q4.py')"
   ]
  },
  {
   "cell_type": "markdown",
   "metadata": {},
   "source": [
    "We can do some visualizations using a box plot to better decide if there's any outliers we'd like to remove. Maybe you decide that everything below 92.5 is an outlier should be removed or maybe you decide to keep all of the values or maybe you decide to remove all values under 94% since that falls outside of a normal, healthy range according to doctors (I would not suggest this last one as it would obscure quite a bit of data! But some analysts might consider it!). In question 5, you can make that decision and justify your answer. "
   ]
  },
  {
   "cell_type": "code",
   "execution_count": 32,
   "metadata": {},
   "outputs": [
    {
     "ename": "NameError",
     "evalue": "name '_fetch_figure_metadata' is not defined",
     "output_type": "error",
     "traceback": [
      "\u001b[0;31m---------------------------------------------------------------------------\u001b[0m",
      "\u001b[0;31mNameError\u001b[0m                                 Traceback (most recent call last)",
      "File \u001b[0;32m~/.local/lib/python3.12/site-packages/matplotlib_inline/backend_inline.py:92\u001b[0m, in \u001b[0;36mshow\u001b[0;34m(close, block)\u001b[0m\n\u001b[1;32m     88\u001b[0m \u001b[38;5;28;01mtry\u001b[39;00m:\n\u001b[1;32m     89\u001b[0m     \u001b[38;5;28;01mfor\u001b[39;00m figure_manager \u001b[38;5;129;01min\u001b[39;00m Gcf\u001b[38;5;241m.\u001b[39mget_all_fig_managers():\n\u001b[1;32m     90\u001b[0m         display(\n\u001b[1;32m     91\u001b[0m             figure_manager\u001b[38;5;241m.\u001b[39mcanvas\u001b[38;5;241m.\u001b[39mfigure,\n\u001b[0;32m---> 92\u001b[0m             metadata\u001b[38;5;241m=\u001b[39m\u001b[43m_fetch_figure_metadata\u001b[49m(figure_manager\u001b[38;5;241m.\u001b[39mcanvas\u001b[38;5;241m.\u001b[39mfigure)\n\u001b[1;32m     93\u001b[0m         )\n\u001b[1;32m     94\u001b[0m \u001b[38;5;28;01mfinally\u001b[39;00m:\n\u001b[1;32m     95\u001b[0m     show\u001b[38;5;241m.\u001b[39m_to_draw \u001b[38;5;241m=\u001b[39m []\n",
      "\u001b[0;31mNameError\u001b[0m: name '_fetch_figure_metadata' is not defined"
     ]
    }
   ],
   "source": [
    "sns.boxplot(smartwatch['Blood Oxygen Level (%)'])"
   ]
  },
  {
   "cell_type": "markdown",
   "metadata": {},
   "source": [
    "**Question 5**: Decide how you want to deal with missing and outlier values in the Blood Oxygen Level column. Set your final table equal to the variable `smartwatch_o2`. Use the space below to explain your decisions. \n",
    "\n",
    "Notes: Refer to [this article](https://pmc.ncbi.nlm.nih.gov/articles/PMC5548942/) on methods of handling these type of instances in data. Keep in mind, you might find that either there are no missing values or no outliers. That's okay, just indicate that in the written space below and update the table i.e. `smartwatch_o2 = smartwatch_hr`\n",
    "\n",
    "ANSWER: I plan on using mean imputation to replace missing values since this will not have a significant effect on the median and the range for O2 saturation is quite small. For outliers, I plan on rounding to the nearest possible value (i.e. O2 saturation > 100 will be rounded to 100, O2 saturation < 80 will be rounded to 80). I'm making this choice because the min and max fall within a very close range and in general there is a small range for safe/healthy O2 saturation values. smartwatches might be calibrated differently because of this tight range and have errors from time to time in reporting accurate values, so this way we can still consider differences in extremity of values within the context of possible ranges.\n",
    "...."
   ]
  },
  {
   "cell_type": "code",
   "execution_count": 47,
   "metadata": {},
   "outputs": [
    {
     "name": "stdout",
     "output_type": "stream",
     "text": [
      "     User ID Heart Rate (BPM) Blood Oxygen Level (%)    Step Count  \\\n",
      "818   3156.0        75.132684              97.841581   7281.778831   \n",
      "8369  2283.0        75.132684              97.841581  21495.639335   \n",
      "1615  1417.0        75.132684              97.841581   1585.892722   \n",
      "1712  4079.0        75.132684              97.841581  19003.921284   \n",
      "4690  2829.0        75.132684              97.841581   6610.794796   \n",
      "...      ...              ...                    ...           ...   \n",
      "9994  1942.0        77.912299              98.640583  10061.145291   \n",
      "9995  1524.0        78.819386              98.931927   2948.491953   \n",
      "9996  4879.0        48.632659              95.773035    4725.62307   \n",
      "9997  2624.0        73.834442              97.945874    2571.49206   \n",
      "9999  4113.0        70.063864              98.475606    544.696104   \n",
      "\n",
      "     Sleep Duration (hours) Activity Level Stress Level  \n",
      "818       4.300171191258864      Sedentary            3  \n",
      "8369      5.291653956497481  Highly_Active            2  \n",
      "1615      5.850088362685106     Seddentary            9  \n",
      "1712      5.612504092265231         Active            2  \n",
      "4690      7.770459211576647            NaN            9  \n",
      "...                     ...            ...          ...  \n",
      "9994      5.428634630125767     Seddentary           10  \n",
      "9995      7.402748595032027         Active            7  \n",
      "9996     6.3821659358529015      Sedentary            2  \n",
      "9997       6.91654920303435      Sedentary            4  \n",
      "9999      5.691001039740254          Actve            5  \n",
      "\n",
      "[10000 rows x 7 columns]\n"
     ]
    },
    {
     "name": "stderr",
     "output_type": "stream",
     "text": [
      "/tmp/ipykernel_12300/1008348893.py:16: SettingWithCopyWarning: \n",
      "A value is trying to be set on a copy of a slice from a DataFrame.\n",
      "Try using .loc[row_indexer,col_indexer] = value instead\n",
      "\n",
      "See the caveats in the documentation: https://pandas.pydata.org/pandas-docs/stable/user_guide/indexing.html#returning-a-view-versus-a-copy\n",
      "  nullO2rows['Blood Oxygen Level (%)'] = O2_mean\n"
     ]
    }
   ],
   "source": [
    "# check for outliers and null values\n",
    "outlierO2rows = smartwatch_hr[smartwatch_hr['Blood Oxygen Level (%)'] > 100] & smartwatch_hr[smartwatch_hr['Blood Oxygen Level (%)'] < 80] \n",
    "# can't have blood O2 > 100 (%) or < 80 (dead)\n",
    "nullO2rows = smartwatch_hr[smartwatch_hr['Blood Oxygen Level (%)'].isnull()]\n",
    "\n",
    "# checking these values\n",
    "outlierO2rows, nullO2rows\n",
    "\n",
    "# there are no outliers, but there are empty entries: \n",
    "O2Rows = smartwatch_hr[(~smartwatch_hr['Blood Oxygen Level (%)'].isnull())] # list of all other rows\n",
    "\n",
    "# find mean\n",
    "O2_mean = O2Rows['Blood Oxygen Level (%)'].mean()\n",
    "\n",
    "# impute mean\n",
    "nullO2rows['Blood Oxygen Level (%)'] = O2_mean\n",
    "\n",
    "# concatenate\n",
    "smartwatch_o2 = pd.concat([outlierO2rows, nullO2rows, O2Rows])\n",
    "\n",
    "# check\n",
    "print(smartwatch_o2)"
   ]
  },
  {
   "cell_type": "markdown",
   "metadata": {},
   "source": [
    "Moving onto the Step Count column. \n",
    "\n",
    "**Question 6**: Find the minimum, maximum, and mean step counts. "
   ]
  },
  {
   "cell_type": "code",
   "execution_count": 65,
   "metadata": {},
   "outputs": [
    {
     "name": "stdout",
     "output_type": "stream",
     "text": [
      "0.9101380609604088 62486.690753464914 6985.685884992238\n",
      "6\n",
      "122\n",
      "4186    Highly_Active\n",
      "4185              NaN\n",
      "825        Seddentary\n",
      "836     Highly Active\n",
      "1066           Active\n",
      "            ...      \n",
      "9648       Seddentary\n",
      "9664        Sedentary\n",
      "9743       Seddentary\n",
      "9943           Active\n",
      "9973           Active\n",
      "Name: Activity Level, Length: 122, dtype: object\n"
     ]
    }
   ],
   "source": [
    "minSteps = smartwatch_o2['Step Count'].min()\n",
    "\n",
    "maxSteps = smartwatch_o2['Step Count'].max()\n",
    "\n",
    "meanSteps = smartwatch_o2['Step Count'].mean()\n",
    "\n",
    "print(minSteps, maxSteps, meanSteps)\n",
    "\n",
    "# check how many outliers\n",
    "print(len(smartwatch_o2[smartwatch_o2['Step Count']<5])) # too small\n",
    "print(len(smartwatch_o2[smartwatch_o2['Step Count']>30000])) #too big\n",
    "\n",
    "# what do they look like?\n",
    "#print(smartwatch_o2[smartwatch_o2['Step Count']<5]) # too small\n",
    "print(smartwatch_o2[smartwatch_o2['Step Count']>30000]['Activity Level']) #too big"
   ]
  },
  {
   "cell_type": "code",
   "execution_count": null,
   "metadata": {},
   "outputs": [],
   "source": [
    "check('tests/q6.py')"
   ]
  },
  {
   "cell_type": "markdown",
   "metadata": {},
   "source": [
    "**Question 7**: Decide how you want to deal with missing and outlier values in the Steps column. Set your final table equal to the variable `smartwatch_steps`. Use the space below to explain your decisions. \n",
    "\n",
    "Notes: Refer to [this article](https://pmc.ncbi.nlm.nih.gov/articles/PMC5548942/) on methods of handling these type of instances in data. Keep in mind, you might find that either there are no missing values or no outliers. That's okay, just indicate that in the written space below and update the table i.e. `smartwatch_steps = smartwatch_o2`\n",
    "\n",
    "ANSWER: There seem to be some extreme outliers in this dataset. For example, 0.91 represents that the person had an average of 1 step per day -- they likely left their watch at home and didn't wear it. Conversely, the maximum has near 62,000 steps averaged per day, which is crazy (on most people's most active days, they'll walk 25k steps). This person might be a pro athlete or someone who bounces their leg/arm, which the watch registers as steps.\n",
    "\n",
    "I'm going to look at how many outliers there are in each direction. It seems like there are only a few who have < 5 steps per day (I chose this cutoff value to account for those who might have difficulty moving), so I plan on using mean imputation to get those in a valid range.\n",
    "\n",
    "There are a larger number of people who have a large (> 40k) number of daily steps. If \"Activity Level\" was better organized, I would keep all observations that rate themselves active or highly active and have many daily steps, while using mean imputation on those who have many daily steps but slef report as sedentary. This is because I assume if someone self-reports as active or very active, high numbers of steps are less likely to be outliers. Since that column is a mess though, I'm just going to do mean imputation on all high outliers.\n",
    "\n",
    "...."
   ]
  },
  {
   "cell_type": "code",
   "execution_count": 78,
   "metadata": {},
   "outputs": [
    {
     "name": "stdout",
     "output_type": "stream",
     "text": [
      "     User ID Heart Rate (BPM) Blood Oxygen Level (%)    Step Count  \\\n",
      "2349  3126.0        75.132684              98.348774   6614.340486   \n",
      "908   1823.0        70.061523               97.28198   6614.340486   \n",
      "3470  4631.0        87.045706              95.438054   6614.340486   \n",
      "5816  3873.0         67.21311                  100.0   6614.340486   \n",
      "7489  1366.0        45.719594              99.576891   6614.340486   \n",
      "...      ...              ...                    ...           ...   \n",
      "9994  1942.0        77.912299              98.640583  10061.145291   \n",
      "9995  1524.0        78.819386              98.931927   2948.491953   \n",
      "9996  4879.0        48.632659              95.773035    4725.62307   \n",
      "9997  2624.0        73.834442              97.945874    2571.49206   \n",
      "9999  4113.0        70.063864              98.475606    544.696104   \n",
      "\n",
      "     Sleep Duration (hours) Activity Level Stress Level  \n",
      "2349      9.306370985176311  Highly_Active            1  \n",
      "908       2.494171838826327          Actve            5  \n",
      "3470      6.886368326260279  Highly_Active            2  \n",
      "5816       4.48053870287441      Sedentary            9  \n",
      "7489                    NaN          Actve            1  \n",
      "...                     ...            ...          ...  \n",
      "9994      5.428634630125767     Seddentary           10  \n",
      "9995      7.402748595032027         Active            7  \n",
      "9996     6.3821659358529015      Sedentary            2  \n",
      "9997       6.91654920303435      Sedentary            4  \n",
      "9999      5.691001039740254          Actve            5  \n",
      "\n",
      "[10000 rows x 7 columns]\n"
     ]
    },
    {
     "name": "stderr",
     "output_type": "stream",
     "text": [
      "/tmp/ipykernel_12300/1557573478.py:11: SettingWithCopyWarning: \n",
      "A value is trying to be set on a copy of a slice from a DataFrame.\n",
      "Try using .loc[row_indexer,col_indexer] = value instead\n",
      "\n",
      "See the caveats in the documentation: https://pandas.pydata.org/pandas-docs/stable/user_guide/indexing.html#returning-a-view-versus-a-copy\n",
      "  nullSteps['Step Count'] = step_mean\n"
     ]
    }
   ],
   "source": [
    "# separate into outliers, nulls, and normals\n",
    "outlierSteps = pd.concat([smartwatch_o2[smartwatch_o2['Step Count']<5],smartwatch_o2[smartwatch_o2['Step Count']>30000]])\n",
    "nullSteps = smartwatch_o2[(smartwatch_o2['Step Count'].isnull())]\n",
    "norm_steps = smartwatch_o2[(smartwatch_o2['Step Count']>=5) & (smartwatch_o2['Step Count']<= 30000) & (~smartwatch_o2['Step Count'].isnull())]\n",
    "\n",
    "# find means of normals\n",
    "step_mean = norm_steps['Step Count'].mean()\n",
    "\n",
    "# impute mean\n",
    "outlierSteps['Step Count'] = step_mean\n",
    "nullSteps['Step Count'] = step_mean\n",
    "\n",
    "# put together into new df\n",
    "smartwatch_steps = pd.concat([outlierSteps, nullSteps, norm_steps])\n",
    "print(smartwatch_steps)"
   ]
  },
  {
   "cell_type": "markdown",
   "metadata": {},
   "source": [
    "Next onto the Sleep Duration column. \n",
    "\n",
    "**Question 8**: Try finding the minimum number of hours slept among participants. "
   ]
  },
  {
   "cell_type": "code",
   "execution_count": 115,
   "metadata": {},
   "outputs": [],
   "source": [
    "minSleep = smartwatch_steps['Sleep Duration (hours)'].min()"
   ]
  },
  {
   "cell_type": "markdown",
   "metadata": {},
   "source": [
    "In the error message, you should see the phrase: \n",
    "\n",
    "`TypeError: '<=' not supported between instances of 'str' and 'float'`\n",
    "\n",
    "This means that the column is a combination of multiple data types. If you recall, we discussed computer readable data that columns HAVE to contain just a single data type. Having a combination of strings, characters, and numbers in a column will only cause more issues downstream. Let's try to figure out all the instances of non-numerical values in the column. \n",
    "\n",
    "First let's try to identify all the non-numerical values to make sure removing them doesn't obscure any important information. "
   ]
  },
  {
   "cell_type": "code",
   "execution_count": 116,
   "metadata": {},
   "outputs": [
    {
     "name": "stdout",
     "output_type": "stream",
     "text": [
      "ERROR\n"
     ]
    }
   ],
   "source": [
    "for i in smartwatch['Sleep Duration (hours)'].unique():  ## Loop through each unique item in the column\n",
    "    try:\n",
    "        numericVal = float(i)  ## first try to see if it can be converted to a number\n",
    "    except:\n",
    "        print(i)  ## if it can't be converted print it to screen "
   ]
  },
  {
   "cell_type": "markdown",
   "metadata": {},
   "source": [
    "So, we find that the only non-numerical value is the string `ERROR`. We can fix this in two ways. First let's try fixing it by splitting the tables like we've done previously. "
   ]
  },
  {
   "cell_type": "code",
   "execution_count": 117,
   "metadata": {},
   "outputs": [
    {
     "name": "stdout",
     "output_type": "stream",
     "text": [
      "Empty DataFrame\n",
      "Columns: [User ID, Heart Rate (BPM), Blood Oxygen Level (%), Step Count, Sleep Duration (hours), Activity Level, Stress Level]\n",
      "Index: []\n"
     ]
    }
   ],
   "source": [
    "errorTable = smartwatch_steps[smartwatch_steps['Sleep Duration (hours)'] == 'ERROR']\n",
    "print(errorTable)"
   ]
  },
  {
   "cell_type": "markdown",
   "metadata": {},
   "source": [
    "Observe that we've created a table with the rows with `ERROR` in the sleep duration column. We can now replace with the `ERROR` value with our handy NaN value for doing numerical statistics. "
   ]
  },
  {
   "cell_type": "code",
   "execution_count": 118,
   "metadata": {},
   "outputs": [],
   "source": [
    "errorTable['Sleep Duration (hours)'] = np.nan\n",
    "\n",
    "errorTable"
   ]
  },
  {
   "cell_type": "markdown",
   "metadata": {},
   "source": [
    "Now we could go through and put the tables back together, but another method to do this is to use a built-in function to pandas called `pd.to_numeric()`. Let's try that. "
   ]
  },
  {
   "cell_type": "code",
   "execution_count": 119,
   "metadata": {},
   "outputs": [],
   "source": [
    "## create a copy of the table \n",
    "smartwatch_sleep = smartwatch_steps\n",
    "\n",
    "smartwatch_sleep['Sleep Duration (hours)'] = pd.to_numeric(smartwatch_sleep['Sleep Duration (hours)'], errors='coerce')\n",
    "\n",
    "smartwatch_sleep"
   ]
  },
  {
   "cell_type": "markdown",
   "metadata": {},
   "source": [
    "Now we can finish **Question 8** and find the minimum, maximum, and mean of the sleep duration column. "
   ]
  },
  {
   "cell_type": "code",
   "execution_count": 120,
   "metadata": {},
   "outputs": [
    {
     "name": "stdout",
     "output_type": "stream",
     "text": [
      "-0.1944527906201543 12.140232872862926 6.505462918406444\n"
     ]
    }
   ],
   "source": [
    "minSleep = smartwatch_steps['Sleep Duration (hours)'].min()\n",
    "\n",
    "maxSleep = smartwatch_steps['Sleep Duration (hours)'].max()\n",
    "\n",
    "meanSleep = smartwatch_steps['Sleep Duration (hours)'].mean()\n",
    "\n",
    "print(minSleep, maxSleep, meanSleep)"
   ]
  },
  {
   "cell_type": "code",
   "execution_count": null,
   "metadata": {},
   "outputs": [],
   "source": [
    "check('tests/q8.py')"
   ]
  },
  {
   "cell_type": "markdown",
   "metadata": {},
   "source": [
    "**Question 9**: Decide how you want to deal with missing and outlier values in the sleep column. Set your final table equal to the variable `smartwatch_updated_sleep`. Use the space below to explain your decisions. \n",
    "\n",
    "*Remember to start with the `smartwatch_sleep` table that we just created.*\n",
    "\n",
    "Notes: Refer to [this article](https://pmc.ncbi.nlm.nih.gov/articles/PMC5548942/) on methods of handling these type of instances in data. Keep in mind, you might find that either there are no missing values or no outliers. That's okay, just indicate that in the written space below and update the table i.e. `smartwatch_updated_sleep = smartwatch_sleep`\n",
    "\n",
    "ANSWER: I see the minimum value is -0.19, which is not possible (hours cannot be negative) and the largest value is 12, which is reasonable. The mean is also what I would expect. For any values below 0, I'll do mean imputation and assume that this came from an error in measuring sleep. There is also the question of how to deal with # of hours between 0 - 3, since that's unlikely to be the average for a whole week (people need more sleep than that to live). However I'm going to leave those lwoer values alone because it could tell us about shortcomings in the watch to measure sleep for different groups of people, ex those with higher sleeping heart rates, those who take naps, or who wake up often during sleeping hours. \n",
    "\n",
    "...."
   ]
  },
  {
   "cell_type": "code",
   "execution_count": null,
   "metadata": {},
   "outputs": [
    {
     "name": "stdout",
     "output_type": "stream",
     "text": [
      "User ID                   201\n",
      "Heart Rate (BPM)            0\n",
      "Blood Oxygen Level (%)      0\n",
      "Step Count                  0\n",
      "Sleep Duration (hours)      0\n",
      "Activity Level            200\n",
      "Stress Level              200\n",
      "dtype: int64\n"
     ]
    },
    {
     "name": "stderr",
     "output_type": "stream",
     "text": [
      "/tmp/ipykernel_12300/1419627720.py:11: SettingWithCopyWarning: \n",
      "A value is trying to be set on a copy of a slice from a DataFrame.\n",
      "Try using .loc[row_indexer,col_indexer] = value instead\n",
      "\n",
      "See the caveats in the documentation: https://pandas.pydata.org/pandas-docs/stable/user_guide/indexing.html#returning-a-view-versus-a-copy\n",
      "  nullSleep['Sleep Duration (hours)'] = sleep_mean\n"
     ]
    }
   ],
   "source": [
    "# separate into outliers, nulls, and normals\n",
    "outlierSleep = pd.concat([smartwatch_steps[smartwatch_steps['Sleep Duration (hours)']<0],smartwatch_steps[smartwatch_steps['Sleep Duration (hours)']>24]])\n",
    "nullSleep = smartwatch_steps[(smartwatch_steps['Sleep Duration (hours)'].isnull())]\n",
    "norm_sleep = smartwatch_steps[(smartwatch_steps['Sleep Duration (hours)']>=0) & (smartwatch_steps['Sleep Duration (hours)']<= 24) & (~smartwatch_steps['Sleep Duration (hours)'].isnull())]\n",
    "\n",
    "# find means of normals\n",
    "sleep_mean = norm_sleep['Sleep Duration (hours)'].mean()\n",
    "\n",
    "# impute mean\n",
    "outlierSleep['Sleep Duration (hours)'] = sleep_mean\n",
    "nullSleep['Sleep Duration (hours)'] = sleep_mean\n",
    "\n",
    "# put together into new df\n",
    "smartwatch_updated_sleep = pd.concat([outlierSleep, nullSleep, norm_sleep])\n",
    "print(smartwatch_updated_sleep)"
   ]
  },
  {
   "cell_type": "markdown",
   "metadata": {},
   "source": [
    "We're going to skip the `Activity Level` column for a minute and look at the `Stress Level` column. If we try getting the minimum, we'll find the same error as in the Sleep column where we have mixed data types (strings and numerical values). Let's use the same type of loop to make sure we don't obscure any data by forcing the strings to NaN values. "
   ]
  },
  {
   "cell_type": "code",
   "execution_count": 132,
   "metadata": {},
   "outputs": [
    {
     "name": "stdout",
     "output_type": "stream",
     "text": [
      "Very High\n",
      "nan\n"
     ]
    }
   ],
   "source": [
    "for item in smartwatch_updated_sleep['Stress Level'].unique():\n",
    "    try:\n",
    "        int(item)\n",
    "    except:\n",
    "        print(item)"
   ]
  },
  {
   "cell_type": "markdown",
   "metadata": {},
   "source": [
    "**Question 10**: \n",
    "\n",
    "What might you decide to do to deal with the `Very High` value? \n",
    "\n",
    "Go ahead and do so below and give a brief case for doing so here. Assign your table to the variable `smartwatch_stress`. \n",
    "\n",
    "ANSWER: It looks like stress level is measured from 1-10, so I'll replace \"Very High\" with 10. This is ssuming 1 is low and 10 is high, which might not be true but it makes the most intuitive sense.\n",
    "..."
   ]
  },
  {
   "cell_type": "code",
   "execution_count": 133,
   "metadata": {},
   "outputs": [
    {
     "name": "stdout",
     "output_type": "stream",
     "text": [
      "     User ID Heart Rate (BPM) Blood Oxygen Level (%)    Step Count  \\\n",
      "1700  1777.0        63.996994              95.465595  14088.912805   \n",
      "2421  4380.0        96.907879              97.099425    319.741554   \n",
      "4713  1556.0        91.216912               98.77709   6614.340486   \n",
      "5175  2681.0        83.416616              95.620551   6614.340486   \n",
      "2403  2980.0        86.049161              97.042221   6614.340486   \n",
      "379   4170.0        70.455114              97.841581   4452.438735   \n",
      "4302  2904.0        77.265298              97.841581   5015.965189   \n",
      "5965  2962.0        79.300571              97.841581   2836.349664   \n",
      "8691  2979.0        51.738902              97.841581   3254.282966   \n",
      "494   4394.0        75.132684              96.108114   7302.374982   \n",
      "1945  4004.0        75.132684              96.837078    291.736435   \n",
      "5823  3775.0        75.132684              97.095137   2092.055907   \n",
      "7858  3472.0        75.132684              96.396043   9554.486964   \n",
      "23    3391.0         76.32552               98.75711    508.838098   \n",
      "44    4547.0        79.617792              98.894373  10415.917714   \n",
      "285   4152.0        65.108094              95.935126  24409.676512   \n",
      "404   2884.0        75.987904              96.577431    7758.83499   \n",
      "817   2062.0        84.122429              98.175028   9827.280181   \n",
      "1161  1666.0        80.008987                99.7056   9034.982217   \n",
      "1308  3870.0        53.358019              97.642963   8095.726849   \n",
      "1342  4371.0       102.295089              95.297737   8876.260802   \n",
      "1367  3306.0        68.393698              99.134959    1680.73124   \n",
      "2541  1574.0        57.556699              97.978496   1293.655022   \n",
      "2764  4072.0         55.85891              97.963146   7556.420784   \n",
      "2841  1813.0        99.448037              97.245927   1048.807497   \n",
      "2867  1044.0        97.463412              97.859315  11823.771545   \n",
      "3269  2428.0          48.7256              98.031503    974.830399   \n",
      "3321  1845.0        48.814491              94.897978   6169.212871   \n",
      "3349  2079.0        65.576048              96.220124  21864.149667   \n",
      "3963  4670.0        70.659253              99.072904   6042.576181   \n",
      "4551  1726.0        91.127561                  100.0   4213.519341   \n",
      "4675  4627.0        74.776893              99.630704  12557.592821   \n",
      "4800  3320.0        66.331358              99.903851    819.769598   \n",
      "5561  1115.0          83.2507              97.724932   6721.341031   \n",
      "6593  2230.0        64.132175              99.001954   8978.106601   \n",
      "6794  3690.0        72.904796                  100.0    161.588757   \n",
      "6847  2257.0        79.578177              99.280578   4172.469927   \n",
      "7139  3285.0        66.392092              98.857359   7571.648275   \n",
      "7189  2291.0        75.176916              96.187686   8333.684215   \n",
      "8125  1935.0         48.42382               95.86097   5024.236245   \n",
      "8236  4594.0        69.215888              99.377268   5085.817921   \n",
      "8266  2901.0        75.286696              98.055694   1731.911975   \n",
      "8298  4611.0        93.591129                  100.0  17193.090393   \n",
      "8351  2519.0        81.991309              97.292655   7255.516967   \n",
      "8482  1890.0        65.616368              98.879327   2700.965039   \n",
      "9010  2714.0        94.360519              96.731081    879.418998   \n",
      "9656  1566.0        95.945551                  100.0    1350.86764   \n",
      "9772  4122.0        50.269429               98.60214  16865.919678   \n",
      "9922  1069.0        84.953455              97.498987    1147.21662   \n",
      "\n",
      "      Sleep Duration (hours) Activity Level  Stress Level  \n",
      "1700                6.506161  Highly Active            10  \n",
      "2421                6.506161      Sedentary            10  \n",
      "4713                7.822021  Highly Active            10  \n",
      "5175                9.264643         Active            10  \n",
      "2403                6.045268  Highly Active            10  \n",
      "379                 5.428322     Seddentary            10  \n",
      "4302                6.707009     Seddentary            10  \n",
      "5965                4.120757     Seddentary            10  \n",
      "8691                6.538625      Sedentary            10  \n",
      "494                 3.516177          Actve            10  \n",
      "1945                8.292480         Active            10  \n",
      "5823                4.712288  Highly Active            10  \n",
      "7858                6.659648      Sedentary            10  \n",
      "23                  4.773999     Seddentary            10  \n",
      "44                  8.282514     Seddentary            10  \n",
      "285                 7.240419         Active            10  \n",
      "404                 7.187799     Seddentary            10  \n",
      "817                 5.384996     Seddentary            10  \n",
      "1161                8.906008      Sedentary            10  \n",
      "1308                5.171706     Seddentary            10  \n",
      "1342                7.350675      Sedentary            10  \n",
      "1367                6.387221          Actve            10  \n",
      "2541                6.902645     Seddentary            10  \n",
      "2764                5.294711         Active            10  \n",
      "2841                7.448688         Active            10  \n",
      "2867                4.038107     Seddentary            10  \n",
      "3269                5.644561      Sedentary            10  \n",
      "3321                6.019077         Active            10  \n",
      "3349                6.218521          Actve            10  \n",
      "3963                6.453973  Highly_Active            10  \n",
      "4551                6.915594  Highly Active            10  \n",
      "4675                6.396437  Highly_Active            10  \n",
      "4800                7.255158  Highly Active            10  \n",
      "5561                5.789892      Sedentary            10  \n",
      "6593                5.613833  Highly Active            10  \n",
      "6794                7.626350  Highly_Active            10  \n",
      "6847                6.925411      Sedentary            10  \n",
      "7139                5.511344      Sedentary            10  \n",
      "7189                9.241840          Actve            10  \n",
      "8125                4.116067  Highly_Active            10  \n",
      "8236                7.476909      Sedentary            10  \n",
      "8266                3.768886          Actve            10  \n",
      "8298                6.863390  Highly Active            10  \n",
      "8351                5.752945     Seddentary            10  \n",
      "8482                3.837395         Active            10  \n",
      "9010                6.510494     Seddentary            10  \n",
      "9656                5.781571  Highly Active            10  \n",
      "9772                2.737993          Actve            10  \n",
      "9922                3.771579     Seddentary            10  \n"
     ]
    },
    {
     "name": "stderr",
     "output_type": "stream",
     "text": [
      "/tmp/ipykernel_12300/2567765036.py:5: SettingWithCopyWarning: \n",
      "A value is trying to be set on a copy of a slice from a DataFrame.\n",
      "Try using .loc[row_indexer,col_indexer] = value instead\n",
      "\n",
      "See the caveats in the documentation: https://pandas.pydata.org/pandas-docs/stable/user_guide/indexing.html#returning-a-view-versus-a-copy\n",
      "  smartwatch_stress['Stress Level'] = 10\n"
     ]
    }
   ],
   "source": [
    "## cell to deal with 'Very High' value\n",
    "smartwatch_stress = smartwatch_updated_sleep[smartwatch_updated_sleep['Stress Level'] == 'Very High']\n",
    "\n",
    "# replace with 10\n",
    "smartwatch_stress['Stress Level'] = 10\n",
    "\n",
    "# checking\n",
    "print(smartwatch_stress)\n"
   ]
  },
  {
   "cell_type": "markdown",
   "metadata": {},
   "source": [
    "Finally, let's go back to the `Activity Level` column and investigate what types of values we find there. "
   ]
  },
  {
   "cell_type": "code",
   "execution_count": 134,
   "metadata": {},
   "outputs": [
    {
     "name": "stdout",
     "output_type": "stream",
     "text": [
      "['Highly Active' 'Highly_Active' 'Actve' 'Seddentary' 'Sedentary' 'Active'\n",
      " nan]\n"
     ]
    }
   ],
   "source": [
    "print(smartwatch['Activity Level'].unique())"
   ]
  },
  {
   "cell_type": "markdown",
   "metadata": {},
   "source": [
    "**Question 12**: \n",
    "\n",
    "What do you notice? There are several values that could and should be combined because they represent the same information. Let's go ahead and do that. While combining these columns, let's also create a new column `NumActivity` where we give a numerical value to represent the activity level. Assign your final table to the variable `final_table`. \n",
    "\n",
    "`Highly Active` = `1`\n",
    "\n",
    "`Active` = `2`\n",
    "\n",
    "`Sedentary` = `3`\n",
    "\n",
    "I notice that each level of activity is repeated twice, with different typos distinguishing them. I'm going to combine them and then assign the numeric value so we can avoid this issue again."
   ]
  },
  {
   "cell_type": "code",
   "execution_count": 135,
   "metadata": {},
   "outputs": [
    {
     "name": "stdout",
     "output_type": "stream",
     "text": [
      "     User ID Heart Rate (BPM) Blood Oxygen Level (%)    Step Count  \\\n",
      "1700  1777.0        63.996994              95.465595  14088.912805   \n",
      "4713  1556.0        91.216912               98.77709   6614.340486   \n",
      "2403  2980.0        86.049161              97.042221   6614.340486   \n",
      "5823  3775.0        75.132684              97.095137   2092.055907   \n",
      "3963  4670.0        70.659253              99.072904   6042.576181   \n",
      "4551  1726.0        91.127561                  100.0   4213.519341   \n",
      "4675  4627.0        74.776893              99.630704  12557.592821   \n",
      "4800  3320.0        66.331358              99.903851    819.769598   \n",
      "6593  2230.0        64.132175              99.001954   8978.106601   \n",
      "6794  3690.0        72.904796                  100.0    161.588757   \n",
      "8125  1935.0         48.42382               95.86097   5024.236245   \n",
      "8298  4611.0        93.591129                  100.0  17193.090393   \n",
      "9656  1566.0        95.945551                  100.0    1350.86764   \n",
      "5175  2681.0        83.416616              95.620551   6614.340486   \n",
      "494   4394.0        75.132684              96.108114   7302.374982   \n",
      "1945  4004.0        75.132684              96.837078    291.736435   \n",
      "285   4152.0        65.108094              95.935126  24409.676512   \n",
      "1367  3306.0        68.393698              99.134959    1680.73124   \n",
      "2764  4072.0         55.85891              97.963146   7556.420784   \n",
      "2841  1813.0        99.448037              97.245927   1048.807497   \n",
      "3321  1845.0        48.814491              94.897978   6169.212871   \n",
      "3349  2079.0        65.576048              96.220124  21864.149667   \n",
      "7189  2291.0        75.176916              96.187686   8333.684215   \n",
      "8266  2901.0        75.286696              98.055694   1731.911975   \n",
      "8482  1890.0        65.616368              98.879327   2700.965039   \n",
      "9772  4122.0        50.269429               98.60214  16865.919678   \n",
      "2421  4380.0        96.907879              97.099425    319.741554   \n",
      "379   4170.0        70.455114              97.841581   4452.438735   \n",
      "4302  2904.0        77.265298              97.841581   5015.965189   \n",
      "5965  2962.0        79.300571              97.841581   2836.349664   \n",
      "8691  2979.0        51.738902              97.841581   3254.282966   \n",
      "7858  3472.0        75.132684              96.396043   9554.486964   \n",
      "23    3391.0         76.32552               98.75711    508.838098   \n",
      "44    4547.0        79.617792              98.894373  10415.917714   \n",
      "404   2884.0        75.987904              96.577431    7758.83499   \n",
      "817   2062.0        84.122429              98.175028   9827.280181   \n",
      "1161  1666.0        80.008987                99.7056   9034.982217   \n",
      "1308  3870.0        53.358019              97.642963   8095.726849   \n",
      "1342  4371.0       102.295089              95.297737   8876.260802   \n",
      "2541  1574.0        57.556699              97.978496   1293.655022   \n",
      "2867  1044.0        97.463412              97.859315  11823.771545   \n",
      "3269  2428.0          48.7256              98.031503    974.830399   \n",
      "5561  1115.0          83.2507              97.724932   6721.341031   \n",
      "6847  2257.0        79.578177              99.280578   4172.469927   \n",
      "7139  3285.0        66.392092              98.857359   7571.648275   \n",
      "8236  4594.0        69.215888              99.377268   5085.817921   \n",
      "8351  2519.0        81.991309              97.292655   7255.516967   \n",
      "9010  2714.0        94.360519              96.731081    879.418998   \n",
      "9922  1069.0        84.953455              97.498987    1147.21662   \n",
      "\n",
      "      Sleep Duration (hours) Activity Level  Stress Level  NumActivity  \n",
      "1700                6.506161  Highly Active            10          1.0  \n",
      "4713                7.822021  Highly Active            10          1.0  \n",
      "2403                6.045268  Highly Active            10          1.0  \n",
      "5823                4.712288  Highly Active            10          1.0  \n",
      "3963                6.453973  Highly Active            10          1.0  \n",
      "4551                6.915594  Highly Active            10          1.0  \n",
      "4675                6.396437  Highly Active            10          1.0  \n",
      "4800                7.255158  Highly Active            10          1.0  \n",
      "6593                5.613833  Highly Active            10          1.0  \n",
      "6794                7.626350  Highly Active            10          1.0  \n",
      "8125                4.116067  Highly Active            10          1.0  \n",
      "8298                6.863390  Highly Active            10          1.0  \n",
      "9656                5.781571  Highly Active            10          1.0  \n",
      "5175                9.264643         Active            10          3.0  \n",
      "494                 3.516177         Active            10          3.0  \n",
      "1945                8.292480         Active            10          3.0  \n",
      "285                 7.240419         Active            10          3.0  \n",
      "1367                6.387221         Active            10          3.0  \n",
      "2764                5.294711         Active            10          3.0  \n",
      "2841                7.448688         Active            10          3.0  \n",
      "3321                6.019077         Active            10          3.0  \n",
      "3349                6.218521         Active            10          3.0  \n",
      "7189                9.241840         Active            10          3.0  \n",
      "8266                3.768886         Active            10          3.0  \n",
      "8482                3.837395         Active            10          3.0  \n",
      "9772                2.737993         Active            10          3.0  \n",
      "2421                6.506161      Sedentary            10          NaN  \n",
      "379                 5.428322      Sedentary            10          NaN  \n",
      "4302                6.707009      Sedentary            10          NaN  \n",
      "5965                4.120757      Sedentary            10          NaN  \n",
      "8691                6.538625      Sedentary            10          NaN  \n",
      "7858                6.659648      Sedentary            10          NaN  \n",
      "23                  4.773999      Sedentary            10          NaN  \n",
      "44                  8.282514      Sedentary            10          NaN  \n",
      "404                 7.187799      Sedentary            10          NaN  \n",
      "817                 5.384996      Sedentary            10          NaN  \n",
      "1161                8.906008      Sedentary            10          NaN  \n",
      "1308                5.171706      Sedentary            10          NaN  \n",
      "1342                7.350675      Sedentary            10          NaN  \n",
      "2541                6.902645      Sedentary            10          NaN  \n",
      "2867                4.038107      Sedentary            10          NaN  \n",
      "3269                5.644561      Sedentary            10          NaN  \n",
      "5561                5.789892      Sedentary            10          NaN  \n",
      "6847                6.925411      Sedentary            10          NaN  \n",
      "7139                5.511344      Sedentary            10          NaN  \n",
      "8236                7.476909      Sedentary            10          NaN  \n",
      "8351                5.752945      Sedentary            10          NaN  \n",
      "9010                6.510494      Sedentary            10          NaN  \n",
      "9922                3.771579      Sedentary            10          NaN  \n"
     ]
    },
    {
     "name": "stderr",
     "output_type": "stream",
     "text": [
      "/tmp/ipykernel_12300/462028772.py:3: SettingWithCopyWarning: \n",
      "A value is trying to be set on a copy of a slice from a DataFrame.\n",
      "Try using .loc[row_indexer,col_indexer] = value instead\n",
      "\n",
      "See the caveats in the documentation: https://pandas.pydata.org/pandas-docs/stable/user_guide/indexing.html#returning-a-view-versus-a-copy\n",
      "  highlyActive['Activity Level'] = 'Highly Active'  ## Reset the text in the column to either 'Highly Active'\n",
      "/tmp/ipykernel_12300/462028772.py:4: SettingWithCopyWarning: \n",
      "A value is trying to be set on a copy of a slice from a DataFrame.\n",
      "Try using .loc[row_indexer,col_indexer] = value instead\n",
      "\n",
      "See the caveats in the documentation: https://pandas.pydata.org/pandas-docs/stable/user_guide/indexing.html#returning-a-view-versus-a-copy\n",
      "  highlyActive['NumActivity'] = 1 ## set the number for the numerical value\n",
      "/tmp/ipykernel_12300/462028772.py:9: SettingWithCopyWarning: \n",
      "A value is trying to be set on a copy of a slice from a DataFrame.\n",
      "Try using .loc[row_indexer,col_indexer] = value instead\n",
      "\n",
      "See the caveats in the documentation: https://pandas.pydata.org/pandas-docs/stable/user_guide/indexing.html#returning-a-view-versus-a-copy\n",
      "  active['Activity Level'] = 'Active'\n",
      "/tmp/ipykernel_12300/462028772.py:10: SettingWithCopyWarning: \n",
      "A value is trying to be set on a copy of a slice from a DataFrame.\n",
      "Try using .loc[row_indexer,col_indexer] = value instead\n",
      "\n",
      "See the caveats in the documentation: https://pandas.pydata.org/pandas-docs/stable/user_guide/indexing.html#returning-a-view-versus-a-copy\n",
      "  active['NumActivity'] = 2\n",
      "/tmp/ipykernel_12300/462028772.py:14: SettingWithCopyWarning: \n",
      "A value is trying to be set on a copy of a slice from a DataFrame.\n",
      "Try using .loc[row_indexer,col_indexer] = value instead\n",
      "\n",
      "See the caveats in the documentation: https://pandas.pydata.org/pandas-docs/stable/user_guide/indexing.html#returning-a-view-versus-a-copy\n",
      "  sedentary['Activity Level'] = 'Sedentary'\n",
      "/tmp/ipykernel_12300/462028772.py:15: SettingWithCopyWarning: \n",
      "A value is trying to be set on a copy of a slice from a DataFrame.\n",
      "Try using .loc[row_indexer,col_indexer] = value instead\n",
      "\n",
      "See the caveats in the documentation: https://pandas.pydata.org/pandas-docs/stable/user_guide/indexing.html#returning-a-view-versus-a-copy\n",
      "  active['NumActivity'] = 3\n"
     ]
    }
   ],
   "source": [
    "## Highly Active \n",
    "highlyActive = smartwatch_stress[(smartwatch_stress['Activity Level'] == 'Highly_Active') | (smartwatch_stress['Activity Level'] == 'Highly Active')]  ## Pull out rows for two unique values matching highly active\n",
    "highlyActive['Activity Level'] = 'Highly Active'  ## Reset the text in the column to either 'Highly Active'\n",
    "highlyActive['NumActivity'] = 1 ## set the number for the numerical value \n",
    "\n",
    "\n",
    "## Active\n",
    "active = smartwatch_stress[(smartwatch_stress['Activity Level'] == 'Actve') | (smartwatch_stress['Activity Level'] == 'Active')]\n",
    "active['Activity Level'] = 'Active'\n",
    "active['NumActivity'] = 2\n",
    "\n",
    "## Sedentary \n",
    "sedentary = smartwatch_stress[(smartwatch_stress['Activity Level'] == 'Sedentary') | (smartwatch_stress['Activity Level'] == 'Seddentary')]\n",
    "sedentary['Activity Level'] = 'Sedentary'\n",
    "active['NumActivity'] = 3\n",
    "\n",
    "final_table = pd.concat([highlyActive, active, sedentary, smartwatch_stress[smartwatch_stress['Activity Level'].isnull()]])\n",
    "print(final_table)"
   ]
  },
  {
   "cell_type": "markdown",
   "metadata": {},
   "source": [
    "Let's check to make sure that we no longer have any missing values in each column (besides the Activity Level/NumActivity, Stress Level, and User ID columns). You likely either removed those rows or imputed a value to substitute the missing values. "
   ]
  },
  {
   "cell_type": "code",
   "execution_count": 136,
   "metadata": {},
   "outputs": [
    {
     "name": "stdout",
     "output_type": "stream",
     "text": [
      "User ID                    0\n",
      "Heart Rate (BPM)           0\n",
      "Blood Oxygen Level (%)     0\n",
      "Step Count                 0\n",
      "Sleep Duration (hours)     0\n",
      "Activity Level             0\n",
      "Stress Level               0\n",
      "NumActivity               23\n",
      "dtype: int64\n",
      "Empty DataFrame\n",
      "Columns: [User ID, Heart Rate (BPM), Blood Oxygen Level (%), Step Count, Sleep Duration (hours), Activity Level, Stress Level, NumActivity]\n",
      "Index: []\n"
     ]
    }
   ],
   "source": [
    "print(final_table.isnull().sum())\n",
    "print(final_table[final_table['Sleep Duration (hours)'].isnull()])"
   ]
  },
  {
   "cell_type": "markdown",
   "metadata": {},
   "source": [
    "Then let's use the info function to make sure each column has the data type we're expecting. "
   ]
  },
  {
   "cell_type": "code",
   "execution_count": 137,
   "metadata": {},
   "outputs": [
    {
     "name": "stdout",
     "output_type": "stream",
     "text": [
      "<class 'pandas.core.frame.DataFrame'>\n",
      "Index: 49 entries, 1700 to 9922\n",
      "Data columns (total 8 columns):\n",
      " #   Column                  Non-Null Count  Dtype  \n",
      "---  ------                  --------------  -----  \n",
      " 0   User ID                 49 non-null     object \n",
      " 1   Heart Rate (BPM)        49 non-null     object \n",
      " 2   Blood Oxygen Level (%)  49 non-null     object \n",
      " 3   Step Count              49 non-null     object \n",
      " 4   Sleep Duration (hours)  49 non-null     float64\n",
      " 5   Activity Level          49 non-null     object \n",
      " 6   Stress Level            49 non-null     int64  \n",
      " 7   NumActivity             26 non-null     float64\n",
      "dtypes: float64(2), int64(1), object(5)\n",
      "memory usage: 3.4+ KB\n",
      "None\n"
     ]
    }
   ],
   "source": [
    "print(final_table.info())"
   ]
  },
  {
   "cell_type": "markdown",
   "metadata": {},
   "source": [
    "**Question 13**: \n",
    "\n",
    "Let's visualize two of the variables. Let's pick `Heart Rate (BPM)` and then you can select any other numerical variable. We're going to create a scatter plot using matplotlib.pyplot. Example code is: \n",
    "\n",
    "`plt.scatter(x, y)` where x and y are your columns of data such as df['label']\n",
    "\n",
    "Also try including a size parameter to make your points smaller to better see patterns. We'll talk more about creating figures in python in a few weeks, but for now let's just look at the broad patterns. \n",
    "\n",
    "Example of including size parameter: \n",
    "\n",
    "`plt.scatter(x, y, s=1)` Try changing the `s` parameter to 10, 1, 0.5, and 0.1. \n",
    "\n",
    "What do you notice?\n",
    "\n",
    "ANSWER:\n",
    "\n",
    "..."
   ]
  },
  {
   "cell_type": "code",
   "execution_count": null,
   "metadata": {},
   "outputs": [],
   "source": [
    "..."
   ]
  },
  {
   "cell_type": "markdown",
   "metadata": {},
   "source": [
    "**Question 14**: \n",
    "\n",
    "\n",
    "Read in the CSV table where we kept all the NaN values instead of removing or imputing them. Repeat the exact same visualization as above with this data. \n",
    "\n",
    "Compare the two figures. What do you notice?\n",
    "\n",
    "ANSWER:\n",
    "\n",
    "..."
   ]
  },
  {
   "cell_type": "code",
   "execution_count": null,
   "metadata": {},
   "outputs": [],
   "source": [
    "nanTable = pd.read_csv('smartwatch_nan_vals.csv')"
   ]
  },
  {
   "cell_type": "code",
   "execution_count": null,
   "metadata": {},
   "outputs": [],
   "source": [
    "plt.scatter(..., ..., s = ...)"
   ]
  },
  {
   "cell_type": "markdown",
   "metadata": {},
   "source": [
    "**Question 15**: \n",
    "\n",
    "\n",
    "Does the amount of steps signficantly differ between the different activity level groups? \n",
    "\n",
    "Hint: Try using a boxplot (`sns.boxplot`) to first visualize the problem. Then you can use scipy.stats to run an ANOVA. "
   ]
  },
  {
   "cell_type": "code",
   "execution_count": null,
   "metadata": {},
   "outputs": [],
   "source": [
    "## Visualization \n",
    "\n",
    "...\n"
   ]
  },
  {
   "cell_type": "code",
   "execution_count": null,
   "metadata": {},
   "outputs": [],
   "source": [
    "from scipy.stats import f_oneway\n",
    "\n",
    "## create a table for each activity level group\n",
    "sed = ...  ## sedentary rows\n",
    "act = ... ## active rows\n",
    "hact = ... ## highly active rows \n",
    "\n",
    "stat, pval = f_oneway(sed['Step Count'], act['Step Count'], hact['Step Count'])\n",
    "\n",
    "\n",
    "print(f\"ANOVA test statistic: {stat:.3f}, p-value: {pval:.3f}\")\n"
   ]
  },
  {
   "cell_type": "markdown",
   "metadata": {},
   "source": [
    "Is there significant difference between the groups' step counts?  \n",
    "\n",
    "ANSWER:\n",
    "\n",
    "..."
   ]
  },
  {
   "cell_type": "markdown",
   "metadata": {},
   "source": [
    "**Question 16**\n",
    "\n",
    "If you were to present your findings from this dataset to a broader audience (such as policymakers, healthcare providers, or the general public), how would you communicate key insights responsibly? What considerations would you take into account to avoid misrepresenting the data or reinforcing biases?\n",
    "\n",
    "ANSWER:\n",
    "\n",
    "...."
   ]
  }
 ],
 "metadata": {
  "kernelspec": {
   "display_name": "Python 3",
   "language": "python",
   "name": "python3"
  },
  "language_info": {
   "codemirror_mode": {
    "name": "ipython",
    "version": 3
   },
   "file_extension": ".py",
   "mimetype": "text/x-python",
   "name": "python",
   "nbconvert_exporter": "python",
   "pygments_lexer": "ipython3",
   "version": "3.12.1"
  }
 },
 "nbformat": 4,
 "nbformat_minor": 2
}
